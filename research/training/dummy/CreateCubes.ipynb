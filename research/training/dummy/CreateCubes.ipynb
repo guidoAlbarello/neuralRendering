{
 "cells": [
  {
   "cell_type": "markdown",
   "metadata": {},
   "source": [
    "### Leer el dataframe guardado"
   ]
  },
  {
   "cell_type": "code",
   "execution_count": 139,
   "metadata": {},
   "outputs": [],
   "source": [
    "import pandas as pd\n",
    "\n",
    "def csv_to_dataframe(file_name):\n",
    "    return pd.read_csv(file_name)"
   ]
  },
  {
   "cell_type": "code",
   "execution_count": 140,
   "metadata": {},
   "outputs": [],
   "source": [
    "# dataframe = csv_to_dataframe('./files/warped_terrain_sdf.csv')"
   ]
  },
  {
   "cell_type": "code",
   "execution_count": 141,
   "metadata": {},
   "outputs": [],
   "source": [
    "# dataframe"
   ]
  },
  {
   "cell_type": "markdown",
   "metadata": {},
   "source": [
    "### 5. Funcion para crear esferas"
   ]
  },
  {
   "cell_type": "code",
   "execution_count": 142,
   "metadata": {},
   "outputs": [],
   "source": [
    "# len(dataframe)"
   ]
  },
  {
   "cell_type": "code",
   "execution_count": 143,
   "metadata": {},
   "outputs": [],
   "source": [
    "# dataframe"
   ]
  },
  {
   "cell_type": "code",
   "execution_count": 144,
   "metadata": {},
   "outputs": [],
   "source": [
    "from math import sqrt\n",
    "\n",
    "def distanceSquared3D(point, other):\n",
    "    return sqrt((point[0]-other[0])**2 + (point[1]-other[1])**2 + (point[2]-other[2])**2)\n",
    "\n",
    "def sphereIsInSphere(spheres, point, radio):\n",
    "    for sphere in spheres: #sphere = [point, radio]\n",
    "        distance = distanceSquared3D(point, sphere[0])\n",
    "        if distance < sphere[1]:\n",
    "            return True, 0\n",
    "        elif distance < sphere[1]+radio:\n",
    "            return True, distance-sphere[1]\n",
    "    return False, radio\n",
    "\n",
    "# take second element for sort\n",
    "def takeSecond(elem):\n",
    "    return elem[1]\n",
    "\n",
    "def makeSpheres(dataframe, max_spheres): #dataframe = (x,y,z,density,distance)\n",
    "    coordinates_spheres = [] #[(Point,r)]\n",
    "    spheres_back = []\n",
    "    \n",
    "    for i in range(len(dataframe)):\n",
    "        #print(i)\n",
    "        distance = dataframe.iloc[i].distance\n",
    "        if (distance < 0 and len(coordinates_spheres) < max_spheres):\n",
    "            #print()\n",
    "            coord = [dataframe.iloc[i].y, dataframe.iloc[i].x, dataframe.iloc[i].z]\n",
    "            isInSphere, posibleRadio = sphereIsInSphere(coordinates_spheres, coord, -distance)\n",
    "            if(not isInSphere):\n",
    "                coordinates_spheres.append([coord, -distance])\n",
    "            elif posibleRadio > 0:\n",
    "                spheres_back.append([coord, posibleRadio])\n",
    "                \n",
    "    if len(coordinates_spheres) < max_spheres:\n",
    "        spheres_back.sort(key=takeSecond, reverse=True)\n",
    "        \n",
    "    while len(coordinates_spheres) < max_spheres and i < len(spheres_back):\n",
    "        coordinates_spheres.append([spheres_back[i]])\n",
    "        i += 1\n",
    "        \n",
    "    return coordinates_spheres\n",
    "\n",
    "def generateSpheres(dataframe, max_spheres):\n",
    "    sort_dataframe = dataframe.sort_values([\"distance\"])#, ascending=False)\n",
    "    spheresPoints = makeSpheres(sort_dataframe, max_spheres)\n",
    "    # plot(circles, use_brightness_level, do_loop)\n",
    "    return spheresPoints"
   ]
  },
  {
   "cell_type": "code",
   "execution_count": 145,
   "metadata": {},
   "outputs": [],
   "source": [
    "def generateShaderWithSpheres(spheres, idx):    \n",
    "    f = \"float soil{0}SDF(vec3 inputPoint) {{\\nreturn \".format(idx)\n",
    "    sphere = spheres[0]\n",
    "    x_max=1\n",
    "    y_max=1\n",
    "    z_max=1\n",
    "    r_max=1\n",
    "    prev = \"sphereSDF(inputPoint, vec3({0}, {1}, {2}), {3})\".format(sphere[0][0]/x_max, sphere[0][1]/y_max, sphere[0][2]/z_max, float(sphere[1]/r_max))\n",
    "    if (len(spheres) > 1):\n",
    "        for i in range(1,len(spheres)):\n",
    "            sphere = spheres[i]\n",
    "            opt = \"smoothUnion(sphereSDF(inputPoint, vec3({0}, {1}, {2}), {3}), {4})\".format(sphere[0][0]/x_max, sphere[0][1]/y_max, sphere[0][2]/z_max, float(sphere[1]/r_max), prev)\n",
    "            prev = opt\n",
    "        f += opt\n",
    "    else:\n",
    "        f += prev\n",
    "    f += \";\\n}\\n\\n\"\n",
    "    return f"
   ]
  },
  {
   "cell_type": "code",
   "execution_count": 146,
   "metadata": {},
   "outputs": [],
   "source": [
    "# finalShaderString = \"float smoothUnion(float a, float b) {\\n    float k = 0.1;\\n float h = max( k-abs(a-b), 0.0 )/k;\\nreturn min( a, b ) - h*h*k*(1.0/4.0); }\\nfloat sphereSDF(vec3 p, vec3 pos, float r) { return length(pos - p) - r; }\\n\\n\"\n",
    "\n",
    "# for i in range(len(internalValues)):\n",
    "#     dataframe = csv_to_dataframe(r'./files/{}_warped_terrain_sdf.csv'.format(i))\n",
    "#     max_number_of_spheres = 50\n",
    "#     spheres = generateSpheres(dataframe, max_number_of_spheres)\n",
    "#     finalShaderString = finalShaderString + generateShaderWithSpheres(spheres, i)\n",
    "\n",
    "# print (finalShaderString)"
   ]
  },
  {
   "cell_type": "code",
   "execution_count": 147,
   "metadata": {},
   "outputs": [],
   "source": [
    "# spheres = generateSpheres(dataframe, 50)"
   ]
  },
  {
   "cell_type": "code",
   "execution_count": 148,
   "metadata": {},
   "outputs": [],
   "source": [
    "# spheres"
   ]
  },
  {
   "cell_type": "markdown",
   "metadata": {},
   "source": [
    "### 5. Funcion para crear cubos"
   ]
  },
  {
   "cell_type": "code",
   "execution_count": 149,
   "metadata": {},
   "outputs": [],
   "source": [
    "# coordinates_cubes = [] #[(Point,L)]"
   ]
  },
  {
   "cell_type": "code",
   "execution_count": 150,
   "metadata": {},
   "outputs": [],
   "source": [
    "def vertexInCube(vertex, X_min, X_max, Y_min, Y_max, Z_min, Z_max):\n",
    "    X = vertex[0]\n",
    "    Y = vertex[1]\n",
    "    Z = vertex[2]\n",
    "    \n",
    "    return X_min <= X <= X_max and Y_min <= Y <= Y_max  and Z_min <= Z <= Z_max\n",
    "    \n",
    "    \n",
    "def getXYZMax(point, side):\n",
    "    X = point[0]\n",
    "    Y = point[1]\n",
    "    Z = point[2]\n",
    "\n",
    "    X_max = X + side\n",
    "    X_min = X - side\n",
    "\n",
    "    Y_max = Y + side\n",
    "    Y_min = Y - side\n",
    "\n",
    "    Z_max = Z + side\n",
    "    Z_min = Y - side\n",
    "    \n",
    "    return X_min, X_max, Y_min, Y_max, Z_min, Z_max\n",
    "    \n",
    "    \n",
    "def cubeInCube(cube1, cube2): # cube = [(point), side]\n",
    "    '''Return if part of cube1 is inside cube2'''\n",
    "    point = cube2[0]\n",
    "    side = cube2[1]\n",
    "    X_min, X_max, Y_min, Y_max, Z_min, Z_max = getXYZMax(point, side)\n",
    "    \n",
    "    \n",
    "    #######################################################\n",
    "\n",
    "    point = cube1[0]\n",
    "    side = cube1[1]\n",
    "    X1_min, X1_max, Y1_min, Y1_max, Z1_min, Z1_max = getXYZMax(point, side)\n",
    "    \n",
    "    vertex1 = (X1_max, Y1_min, Z1_max)\n",
    "    vertex2 = (X1_max, Y1_min, Z1_min)\n",
    "    vertex3 = (X1_max, Y1_max, Z1_max)\n",
    "    vertex4 = (X1_max, Y1_max, Z1_min)\n",
    "    vertex5 = (X1_min, Y1_max, Z1_max)\n",
    "    vertex6 = (X1_min, Y1_max, Z1_min)\n",
    "    vertex7 = (X1_min, Y1_min, Z1_max)\n",
    "    vertex8 = (X1_min, Y1_min, Z1_min)\n",
    "    \n",
    "    vertexes = [vertex1, vertex2, vertex3, vertex4, vertex5, vertex6, vertex7, vertex8]\n",
    "    \n",
    "    for vertex in vertexes:\n",
    "        if(vertexInCube(vertex, X_min, X_max, Y_min, Y_max, Z_min, Z_max)):\n",
    "            return True\n",
    "    return False\n",
    "\n",
    "\n",
    "def cubeIsInsideCube(cubes, point, side):\n",
    "    originalCube = [point, side]\n",
    "    for cube in cubes:\n",
    "        if(cubeInCube(originalCube, cube) or cubeInCube(cube, originalCube)):\n",
    "            return True\n",
    "    return False\n",
    "\n"
   ]
  },
  {
   "cell_type": "code",
   "execution_count": 151,
   "metadata": {},
   "outputs": [],
   "source": [
    "def makeCubes(dataframe, max_cubes): #dataframe = (x,y,z,density,distance)\n",
    "    coordinates_cubes = [] #[(Point,r)]\n",
    "    cubes_back = []\n",
    "    \n",
    "    for i in range(len(dataframe)):\n",
    "        #print(i)\n",
    "        distance = dataframe.iloc[i].distance\n",
    "        if (distance < 0 and len(coordinates_cubes) < max_cubes):\n",
    "            #print()\n",
    "            coord = [dataframe.iloc[i].y, dataframe.iloc[i].x, dataframe.iloc[i].z]\n",
    "            isInCube = cubeIsInsideCube(coordinates_cubes, coord, -distance)\n",
    "            \n",
    "            # isInSphere, posibleRadio = sphereIsInSphere(coordinates_spheres, coord, -distance)\n",
    "            if(not isInCube):\n",
    "                coordinates_cubes.append([coord, -distance])\n",
    "                \n",
    "# TODO: AGREGAR MAS CUBOS COMO EN LAS ESFERAS EN CASO DE NO HABER LLEGADO AL NUMERO MAXIMO DE ESFERAS\n",
    "#             elif posibleRadio > 0:\n",
    "#                 spheres_back.append([coord, posibleRadio])\n",
    "                \n",
    "#     if len(coordinates_cubes) < max_cubes:\n",
    "#         cubes_back.sort(key=takeSecond, reverse=True)\n",
    "        \n",
    "#     while len(coordinates_cubes) < max_cubes and i < len(cubes_back):\n",
    "#         coordinates_cubes.append([cubes_back[i]])\n",
    "#         i += 1\n",
    "        \n",
    "    return coordinates_cubes\n",
    "\n",
    "def generateCubes(dataframe, max_cubes):\n",
    "    sort_dataframe = dataframe.sort_values([\"distance\"])#, ascending=False)\n",
    "    cubesPoints = makeCubes(sort_dataframe, max_cubes)\n",
    "    return cubesPoints"
   ]
  },
  {
   "cell_type": "code",
   "execution_count": 152,
   "metadata": {},
   "outputs": [],
   "source": [
    "# cubes = generateCubes(dataframe, 50)"
   ]
  },
  {
   "cell_type": "code",
   "execution_count": 153,
   "metadata": {},
   "outputs": [],
   "source": [
    "# cubes"
   ]
  },
  {
   "cell_type": "code",
   "execution_count": 154,
   "metadata": {},
   "outputs": [],
   "source": [
    "# len(cubes)"
   ]
  },
  {
   "cell_type": "markdown",
   "metadata": {},
   "source": [
    "### 6. Funcion para generar shader"
   ]
  },
  {
   "cell_type": "markdown",
   "metadata": {},
   "source": [
    "Siendo\n",
    "c = centro del eje\n",
    "p = punto donde esta el cubo\n",
    "s = tama;o del lado\n",
    "\n",
    "##### Sacado de https://www.alanzucconi.com/2016/07/01/signed-distance-functions/\n",
    "```\n",
    "float sdf_box (float3 p, float3 c, float3 s){\n",
    "    float x = max\n",
    "    (   p.x - c.x - float3(s.x / 2., 0, 0),\n",
    "        c.x - p.x - float3(s.x / 2., 0, 0)\n",
    "    );\n",
    "    \n",
    "    float y = max\n",
    "    (   p.y - c.y - float3(s.y / 2., 0, 0),\n",
    "        c.y - p.y - float3(s.y / 2., 0, 0)\n",
    "    );\n",
    "    \n",
    "    float z = max\n",
    "    (   p.z - c.z - float3(s.z / 2., 0, 0),\n",
    "        c.z - p.z - float3(s.z / 2., 0, 0)\n",
    "    );\n",
    "    \n",
    "    float d = x;\n",
    "    d = max(d,y);\n",
    "    d = max(d,z);\n",
    "    return d;\n",
    "}\n",
    "```\n",
    "\n",
    "##### Esto es lo mismo que\n",
    "```\n",
    "float vmax(float3 v){\n",
    "    return max(max(v.x, v.y), v.z);\n",
    "}\n",
    "\n",
    "float sdf_boxcheap(float3 p, float3 c, float3 s){\n",
    "    return vmax(abs(p-c) - s);\n",
    "}\n",
    "```"
   ]
  },
  {
   "cell_type": "code",
   "execution_count": 181,
   "metadata": {},
   "outputs": [],
   "source": [
    "def generateShaderWithCubes(cubes, idx):\n",
    "#     f = \"\"\"float cubeSDF(vec3 p) {\n",
    "#     vec3 d = abs(p) - vec3(1.0, 1.0, 1.0);\n",
    "#     return min(max(d.x,max(d.y,d.z)),0.0) + length(max(d,0.0));\n",
    "# }\"\"\"\n",
    "    functionName = \"cubeSDFFinal{0}\".format(idx)\n",
    "    f = \"\"\"\\nfloat \"\"\"+functionName+\"(vec3 inputPoint) {\\nreturn \"\n",
    "\n",
    "    cube = cubes[0]\n",
    "    x_max=1\n",
    "    y_max=1\n",
    "    z_max=1\n",
    "    r_max=1\n",
    "    prev = \"sdf_boxcheap(inputPoint, vec3({0}, {1}, {2}), vec3({3}, {3}, {3}))\".format(cube[0][0]/x_max, cube[0][1]/y_max, cube[0][2]/z_max, float(cube[1]/r_max))\n",
    "    if (len(cubes) > 1):\n",
    "        for i in range(1,len(cubes)):\n",
    "            cube = cubes[i]\n",
    "            opt = \"smoothUnion(sdf_boxcheap(inputPoint, vec3({0}, {1}, {2}), vec3({3}, {3}, {3})), {4})\".format(cube[0][0]/x_max, cube[0][1]/y_max, cube[0][2]/z_max, float(cube[1]/r_max), prev)\n",
    "            prev = opt\n",
    "        f += opt\n",
    "    else:\n",
    "        f += prev\n",
    "    f += \";\\n}\"\n",
    "    return f"
   ]
  },
  {
   "cell_type": "code",
   "execution_count": 156,
   "metadata": {},
   "outputs": [],
   "source": [
    "# generateShaderWithCubes(cubes)"
   ]
  },
  {
   "cell_type": "markdown",
   "metadata": {},
   "source": []
  },
  {
   "cell_type": "markdown",
   "metadata": {},
   "source": [
    "# Cosas a escribir en el shader"
   ]
  },
  {
   "cell_type": "markdown",
   "metadata": {},
   "source": [
    "### Definicion de variables"
   ]
  },
  {
   "cell_type": "code",
   "execution_count": 157,
   "metadata": {},
   "outputs": [],
   "source": [
    "internalValues = [[0.00,0.081], [0.082,0.17], [0.18,0.27], [0.28,0.4]]"
   ]
  },
  {
   "cell_type": "code",
   "execution_count": 174,
   "metadata": {},
   "outputs": [],
   "source": [
    "shape = \"cube\""
   ]
  },
  {
   "cell_type": "code",
   "execution_count": 175,
   "metadata": {},
   "outputs": [],
   "source": [
    "if shape == \"cube\":\n",
    "    baseNameFunctions = \"cubeSDFFinal{0}\"\n",
    "else:\n",
    "    baseNameFunctions = \"soil{0}SDF\""
   ]
  },
  {
   "cell_type": "markdown",
   "metadata": {},
   "source": [
    "### Funciones para generar la escena total"
   ]
  },
  {
   "cell_type": "code",
   "execution_count": 176,
   "metadata": {},
   "outputs": [],
   "source": [
    "def generateFunctionsToBuildTotalScene(internalValues, shape=\"sphere\", max_number_of_shapes=50):\n",
    "    finalShaderString = \"\\nfloat smoothUnion(float a, float b) {\\n    float k = 0.1;\\n    float h = max( k-abs(a-b), 0.0 )/k;\\n    return min( a, b ) - h*h*k*(1.0/4.0); \\n}\\n\"\n",
    "    # sphereShaderFunction = \"\\nfloat sphereSDF(vec3 p, vec3 pos, float r) {\\n    return length(pos - p) - r; \\n}\\n\"\n",
    "    cubeShaderFunction = \"\"\"\\nfloat vmax(vec3 v){\\n     return max(max(v.x, v.y), v.z);\\n}\n",
    "        \\nfloat sdf_boxcheap(vec3 c, vec3 p, vec3 s){\\n     return vmax(abs(p-c) - s);\\n}\\n\"\"\"\n",
    "    \n",
    "    finalShaderString += sphereShaderFunction\n",
    "    finalShaderString += cubeShaderFunction\n",
    "    finalShaderString += \"\\n\"\n",
    "        \n",
    "    for i in range(len(internalValues)):\n",
    "        dataframe = csv_to_dataframe(r'./files/{}_warped_terrain_sdf.csv'.format(i))\n",
    "\n",
    "        if shape == \"cube\":\n",
    "            cubes = generateCubes(dataframe, max_number_of_shapes)\n",
    "            functions = generateShaderWithCubes(cubes, i)\n",
    "        else: # default shape is sphere\n",
    "            spheres = generateSpheres(dataframe, max_number_of_shapes)\n",
    "            functions = generateShaderWithSpheres(spheres, i)\n",
    "        \n",
    "\n",
    "        finalShaderString = finalShaderString + functions\n",
    "\n",
    "    return finalShaderString"
   ]
  },
  {
   "cell_type": "code",
   "execution_count": 182,
   "metadata": {},
   "outputs": [],
   "source": [
    "functionsToBuildTotalScene = generateFunctionsToBuildTotalScene(internalValues, shape)"
   ]
  },
  {
   "cell_type": "code",
   "execution_count": 183,
   "metadata": {},
   "outputs": [
    {
     "name": "stdout",
     "output_type": "stream",
     "text": [
      "\n",
      "float smoothUnion(float a, float b) {\n",
      "    float k = 0.1;\n",
      "    float h = max( k-abs(a-b), 0.0 )/k;\n",
      "    return min( a, b ) - h*h*k*(1.0/4.0); \n",
      "}\n",
      "\n",
      "float sphereSDF(vec3 p, vec3 pos, float r) {\n",
      "    return length(pos - p) - r; \n",
      "}\n",
      "\n",
      "float vmax(vec3 v){\n",
      "     return max(max(v.x, v.y), v.z);\n",
      "}\n",
      "        \n",
      "float sdf_boxcheap(vec3 c, vec3 p, vec3 s){\n",
      "     return vmax(abs(p-c) - s);\n",
      "}\n",
      "\n",
      "\n",
      "float cubeSDFFinal0(vec3 inputPoint) {\n",
      "return smoothUnion(sdf_boxcheap(inputPoint, vec3(0.95, 0.0, 0.05), vec3(0.07071067811865478, 0.07071067811865478, 0.07071067811865478)), smoothUnion(sdf_boxcheap(inputPoint, vec3(0.0, 0.0, 0.0), vec3(0.12247448713915893, 0.12247448713915893, 0.12247448713915893)), smoothUnion(sdf_boxcheap(inputPoint, vec3(0.30000000000000004, 0.0, 0.0), vec3(0.14142135623730953, 0.14142135623730953, 0.14142135623730953)), sdf_boxcheap(inputPoint, vec3(0.7000000000000001, 0.0, 0.0), vec3(0.15, 0.15, 0.15)))));\n",
      "}\n",
      "float cubeSDFFinal1(vec3 inputPoint) {\n",
      "return smoothUnion(sdf_boxcheap(inputPoint, vec3(0.0, 0.30000000000000004, 0.1), vec3(0.0707106781186547, 0.0707106781186547, 0.0707106781186547)), smoothUnion(sdf_boxcheap(inputPoint, vec3(0.9, 0.4, 0.0), vec3(0.0707106781186547, 0.0707106781186547, 0.0707106781186547)), smoothUnion(sdf_boxcheap(inputPoint, vec3(0.9, 0.30000000000000004, 0.1), vec3(0.0707106781186547, 0.0707106781186547, 0.0707106781186547)), smoothUnion(sdf_boxcheap(inputPoint, vec3(0.95, 0.30000000000000004, 0.1), vec3(0.0707106781186547, 0.0707106781186547, 0.0707106781186547)), smoothUnion(sdf_boxcheap(inputPoint, vec3(0.8500000000000001, 0.30000000000000004, 0.1), vec3(0.0707106781186547, 0.0707106781186547, 0.0707106781186547)), smoothUnion(sdf_boxcheap(inputPoint, vec3(0.2, 0.30000000000000004, 0.0), vec3(0.07071067811865471, 0.07071067811865471, 0.07071067811865471)), smoothUnion(sdf_boxcheap(inputPoint, vec3(0.15000000000000002, 0.30000000000000004, 0.0), vec3(0.07071067811865471, 0.07071067811865471, 0.07071067811865471)), smoothUnion(sdf_boxcheap(inputPoint, vec3(0.25, 0.30000000000000004, 0.0), vec3(0.07071067811865471, 0.07071067811865471, 0.07071067811865471)), smoothUnion(sdf_boxcheap(inputPoint, vec3(0.30000000000000004, 0.30000000000000004, 0.0), vec3(0.07071067811865471, 0.07071067811865471, 0.07071067811865471)), smoothUnion(sdf_boxcheap(inputPoint, vec3(0.35000000000000003, 0.30000000000000004, 0.0), vec3(0.07071067811865471, 0.07071067811865471, 0.07071067811865471)), smoothUnion(sdf_boxcheap(inputPoint, vec3(0.1, 0.35000000000000003, 0.0), vec3(0.07071067811865474, 0.07071067811865474, 0.07071067811865474)), smoothUnion(sdf_boxcheap(inputPoint, vec3(0.15000000000000002, 0.25, 0.1), vec3(0.07071067811865474, 0.07071067811865474, 0.07071067811865474)), smoothUnion(sdf_boxcheap(inputPoint, vec3(0.45, 0.35000000000000003, 0.0), vec3(0.07071067811865474, 0.07071067811865474, 0.07071067811865474)), smoothUnion(sdf_boxcheap(inputPoint, vec3(0.4, 0.25, 0.1), vec3(0.07071067811865474, 0.07071067811865474, 0.07071067811865474)), smoothUnion(sdf_boxcheap(inputPoint, vec3(0.45, 0.25, 0.1), vec3(0.07071067811865474, 0.07071067811865474, 0.07071067811865474)), smoothUnion(sdf_boxcheap(inputPoint, vec3(0.0, 0.45, 0.0), vec3(0.07071067811865475, 0.07071067811865475, 0.07071067811865475)), smoothUnion(sdf_boxcheap(inputPoint, vec3(0.8, 0.4, 0.0), vec3(0.07071067811865475, 0.07071067811865475, 0.07071067811865475)), smoothUnion(sdf_boxcheap(inputPoint, vec3(0.0, 0.35000000000000003, 0.05), vec3(0.07071067811865475, 0.07071067811865475, 0.07071067811865475)), smoothUnion(sdf_boxcheap(inputPoint, vec3(0.05, 0.35000000000000003, 0.05), vec3(0.07071067811865475, 0.07071067811865475, 0.07071067811865475)), smoothUnion(sdf_boxcheap(inputPoint, vec3(0.75, 0.35000000000000003, 0.0), vec3(0.07071067811865475, 0.07071067811865475, 0.07071067811865475)), smoothUnion(sdf_boxcheap(inputPoint, vec3(0.8500000000000001, 0.4, 0.0), vec3(0.07071067811865475, 0.07071067811865475, 0.07071067811865475)), smoothUnion(sdf_boxcheap(inputPoint, vec3(0.05, 0.45, 0.0), vec3(0.07071067811865475, 0.07071067811865475, 0.07071067811865475)), smoothUnion(sdf_boxcheap(inputPoint, vec3(0.7000000000000001, 0.35000000000000003, 0.0), vec3(0.07071067811865475, 0.07071067811865475, 0.07071067811865475)), smoothUnion(sdf_boxcheap(inputPoint, vec3(0.4, 0.35000000000000003, 0.0), vec3(0.07071067811865475, 0.07071067811865475, 0.07071067811865475)), smoothUnion(sdf_boxcheap(inputPoint, vec3(0.05, 0.4, 0.0), vec3(0.07071067811865478, 0.07071067811865478, 0.07071067811865478)), smoothUnion(sdf_boxcheap(inputPoint, vec3(0.65, 0.0, 0.30000000000000004), vec3(0.07071067811865482, 0.07071067811865482, 0.07071067811865482)), smoothUnion(sdf_boxcheap(inputPoint, vec3(0.45, 0.30000000000000004, 0.0), vec3(0.08660254037844382, 0.08660254037844382, 0.08660254037844382)), smoothUnion(sdf_boxcheap(inputPoint, vec3(0.1, 0.30000000000000004, 0.0), vec3(0.08660254037844382, 0.08660254037844382, 0.08660254037844382)), smoothUnion(sdf_boxcheap(inputPoint, vec3(0.30000000000000004, 0.2, 0.05), vec3(0.08660254037844384, 0.08660254037844384, 0.08660254037844384)), smoothUnion(sdf_boxcheap(inputPoint, vec3(0.4, 0.30000000000000004, 0.0), vec3(0.08660254037844385, 0.08660254037844385, 0.08660254037844385)), smoothUnion(sdf_boxcheap(inputPoint, vec3(0.05, 0.35000000000000003, 0.0), vec3(0.08660254037844388, 0.08660254037844388, 0.08660254037844388)), smoothUnion(sdf_boxcheap(inputPoint, vec3(0.8, 0.35000000000000003, 0.0), vec3(0.08660254037844388, 0.08660254037844388, 0.08660254037844388)), smoothUnion(sdf_boxcheap(inputPoint, vec3(0.4, 0.25, 0.05), vec3(0.08660254037844388, 0.08660254037844388, 0.08660254037844388)), smoothUnion(sdf_boxcheap(inputPoint, vec3(0.65, 0.1, 0.25), vec3(0.08660254037844388, 0.08660254037844388, 0.08660254037844388)), smoothUnion(sdf_boxcheap(inputPoint, vec3(0.65, 0.15000000000000002, 0.15000000000000002), vec3(0.0866025403784439, 0.0866025403784439, 0.0866025403784439)), smoothUnion(sdf_boxcheap(inputPoint, vec3(0.0, 0.4, 0.0), vec3(0.1, 0.1, 0.1)), smoothUnion(sdf_boxcheap(inputPoint, vec3(0.35000000000000003, 0.25, 0.0), vec3(0.1, 0.1, 0.1)), smoothUnion(sdf_boxcheap(inputPoint, vec3(0.4, 0.25, 0.0), vec3(0.1, 0.1, 0.1)), smoothUnion(sdf_boxcheap(inputPoint, vec3(0.4, 0.0, 0.25), vec3(0.1, 0.1, 0.1)), smoothUnion(sdf_boxcheap(inputPoint, vec3(0.95, 0.0, 0.35000000000000003), vec3(0.10000000000000003, 0.10000000000000003, 0.10000000000000003)), smoothUnion(sdf_boxcheap(inputPoint, vec3(0.0, 0.30000000000000004, 0.05), vec3(0.11180339887498944, 0.11180339887498944, 0.11180339887498944)), smoothUnion(sdf_boxcheap(inputPoint, vec3(0.05, 0.30000000000000004, 0.05), vec3(0.11180339887498944, 0.11180339887498944, 0.11180339887498944)), smoothUnion(sdf_boxcheap(inputPoint, vec3(0.30000000000000004, 0.25, 0.0), vec3(0.11180339887498948, 0.11180339887498948, 0.11180339887498948)), smoothUnion(sdf_boxcheap(inputPoint, vec3(0.0, 0.35000000000000003, 0.0), vec3(0.11180339887498948, 0.11180339887498948, 0.11180339887498948)), smoothUnion(sdf_boxcheap(inputPoint, vec3(0.65, 0.2, 0.1), vec3(0.1118033988749895, 0.1118033988749895, 0.1118033988749895)), smoothUnion(sdf_boxcheap(inputPoint, vec3(0.95, 0.1, 0.30000000000000004), vec3(0.11180339887498952, 0.11180339887498952, 0.11180339887498952)), smoothUnion(sdf_boxcheap(inputPoint, vec3(0.65, 0.25, 0.0), vec3(0.12247448713915884, 0.12247448713915884, 0.12247448713915884)), smoothUnion(sdf_boxcheap(inputPoint, vec3(0.05, 0.30000000000000004, 0.0), vec3(0.12247448713915887, 0.12247448713915887, 0.12247448713915887)), smoothUnion(sdf_boxcheap(inputPoint, vec3(0.95, 0.25, 0.0), vec3(0.15811388300841894, 0.15811388300841894, 0.15811388300841894)), sdf_boxcheap(inputPoint, vec3(0.0, 0.0, 0.30000000000000004), vec3(0.17320508075688773, 0.17320508075688773, 0.17320508075688773)))))))))))))))))))))))))))))))))))))))))))))))))));\n",
      "}\n",
      "float cubeSDFFinal2(vec3 inputPoint) {\n",
      "return smoothUnion(sdf_boxcheap(inputPoint, vec3(0.9, 0.6000000000000001, 0.05), vec3(0.15000000000000008, 0.15000000000000008, 0.15000000000000008)), smoothUnion(sdf_boxcheap(inputPoint, vec3(0.15000000000000002, 0.75, 0.05), vec3(0.15811388300841892, 0.15811388300841892, 0.15811388300841892)), smoothUnion(sdf_boxcheap(inputPoint, vec3(0.9, 0.7000000000000001, 0.0), vec3(0.15811388300841894, 0.15811388300841894, 0.15811388300841894)), smoothUnion(sdf_boxcheap(inputPoint, vec3(0.8500000000000001, 0.7000000000000001, 0.0), vec3(0.15811388300841894, 0.15811388300841894, 0.15811388300841894)), smoothUnion(sdf_boxcheap(inputPoint, vec3(0.0, 0.9, 0.1), vec3(0.15811388300841894, 0.15811388300841894, 0.15811388300841894)), smoothUnion(sdf_boxcheap(inputPoint, vec3(0.05, 0.9, 0.1), vec3(0.15811388300841894, 0.15811388300841894, 0.15811388300841894)), smoothUnion(sdf_boxcheap(inputPoint, vec3(0.95, 0.7000000000000001, 0.0), vec3(0.15811388300841903, 0.15811388300841903, 0.15811388300841903)), smoothUnion(sdf_boxcheap(inputPoint, vec3(0.1, 0.8500000000000001, 0.1), vec3(0.16583123951776996, 0.16583123951776996, 0.16583123951776996)), smoothUnion(sdf_boxcheap(inputPoint, vec3(0.15000000000000002, 0.8, 0.05), vec3(0.16583123951776998, 0.16583123951776998, 0.16583123951776998)), smoothUnion(sdf_boxcheap(inputPoint, vec3(0.1, 0.75, 0.2), vec3(0.16583123951776998, 0.16583123951776998, 0.16583123951776998)), smoothUnion(sdf_boxcheap(inputPoint, vec3(0.05, 0.8, 0.15000000000000002), vec3(0.1732050807568877, 0.1732050807568877, 0.1732050807568877)), smoothUnion(sdf_boxcheap(inputPoint, vec3(0.0, 0.8500000000000001, 0.1), vec3(0.1802775637731994, 0.1802775637731994, 0.1802775637731994)), smoothUnion(sdf_boxcheap(inputPoint, vec3(0.0, 0.8, 0.15000000000000002), vec3(0.1802775637731994, 0.1802775637731994, 0.1802775637731994)), smoothUnion(sdf_boxcheap(inputPoint, vec3(0.05, 0.8500000000000001, 0.1), vec3(0.1802775637731994, 0.1802775637731994, 0.1802775637731994)), smoothUnion(sdf_boxcheap(inputPoint, vec3(0.15000000000000002, 0.9, 0.0), vec3(0.18027756377319945, 0.18027756377319945, 0.18027756377319945)), smoothUnion(sdf_boxcheap(inputPoint, vec3(0.15000000000000002, 0.8500000000000001, 0.0), vec3(0.18027756377319945, 0.18027756377319945, 0.18027756377319945)), smoothUnion(sdf_boxcheap(inputPoint, vec3(0.8500000000000001, 0.65, 0.0), vec3(0.18027756377319945, 0.18027756377319945, 0.18027756377319945)), smoothUnion(sdf_boxcheap(inputPoint, vec3(0.9, 0.65, 0.0), vec3(0.18027756377319945, 0.18027756377319945, 0.18027756377319945)), smoothUnion(sdf_boxcheap(inputPoint, vec3(0.15000000000000002, 0.95, 0.0), vec3(0.18027756377319945, 0.18027756377319945, 0.18027756377319945)), smoothUnion(sdf_boxcheap(inputPoint, vec3(0.15000000000000002, 0.75, 0.0), vec3(0.18027756377319945, 0.18027756377319945, 0.18027756377319945)), smoothUnion(sdf_boxcheap(inputPoint, vec3(0.1, 0.95, 0.05), vec3(0.18027756377319948, 0.18027756377319948, 0.18027756377319948)), smoothUnion(sdf_boxcheap(inputPoint, vec3(0.0, 0.75, 0.2), vec3(0.18027756377319948, 0.18027756377319948, 0.18027756377319948)), smoothUnion(sdf_boxcheap(inputPoint, vec3(0.05, 0.75, 0.2), vec3(0.18027756377319948, 0.18027756377319948, 0.18027756377319948)), smoothUnion(sdf_boxcheap(inputPoint, vec3(0.1, 0.9, 0.05), vec3(0.18027756377319948, 0.18027756377319948, 0.18027756377319948)), smoothUnion(sdf_boxcheap(inputPoint, vec3(0.95, 0.65, 0.0), vec3(0.18708286933869706, 0.18708286933869706, 0.18708286933869706)), smoothUnion(sdf_boxcheap(inputPoint, vec3(0.1, 0.8500000000000001, 0.05), vec3(0.18708286933869706, 0.18708286933869706, 0.18708286933869706)), smoothUnion(sdf_boxcheap(inputPoint, vec3(0.15000000000000002, 0.8, 0.0), vec3(0.18708286933869706, 0.18708286933869706, 0.18708286933869706)), smoothUnion(sdf_boxcheap(inputPoint, vec3(0.1, 0.8, 0.1), vec3(0.18708286933869706, 0.18708286933869706, 0.18708286933869706)), smoothUnion(sdf_boxcheap(inputPoint, vec3(0.8500000000000001, 0.0, 0.75), vec3(0.18708286933869708, 0.18708286933869708, 0.18708286933869708)), smoothUnion(sdf_boxcheap(inputPoint, vec3(0.1, 0.75, 0.15000000000000002), vec3(0.18708286933869708, 0.18708286933869708, 0.18708286933869708)), smoothUnion(sdf_boxcheap(inputPoint, vec3(0.0, 0.95, 0.05), vec3(0.2, 0.2, 0.2)), smoothUnion(sdf_boxcheap(inputPoint, vec3(0.05, 0.95, 0.05), vec3(0.2, 0.2, 0.2)), smoothUnion(sdf_boxcheap(inputPoint, vec3(0.05, 0.8, 0.1), vec3(0.20615528128088298, 0.20615528128088298, 0.20615528128088298)), smoothUnion(sdf_boxcheap(inputPoint, vec3(0.1, 0.8, 0.05), vec3(0.20615528128088298, 0.20615528128088298, 0.20615528128088298)), smoothUnion(sdf_boxcheap(inputPoint, vec3(0.05, 0.9, 0.05), vec3(0.20615528128088306, 0.20615528128088306, 0.20615528128088306)), smoothUnion(sdf_boxcheap(inputPoint, vec3(0.0, 0.9, 0.05), vec3(0.20615528128088306, 0.20615528128088306, 0.20615528128088306)), smoothUnion(sdf_boxcheap(inputPoint, vec3(0.0, 0.8, 0.1), vec3(0.2121320343559642, 0.2121320343559642, 0.2121320343559642)), smoothUnion(sdf_boxcheap(inputPoint, vec3(0.1, 0.95, 0.0), vec3(0.21213203435596426, 0.21213203435596426, 0.21213203435596426)), smoothUnion(sdf_boxcheap(inputPoint, vec3(0.1, 0.9, 0.0), vec3(0.21213203435596426, 0.21213203435596426, 0.21213203435596426)), smoothUnion(sdf_boxcheap(inputPoint, vec3(0.1, 0.8500000000000001, 0.0), vec3(0.21794494717703367, 0.21794494717703367, 0.21794494717703367)), smoothUnion(sdf_boxcheap(inputPoint, vec3(0.0, 0.8500000000000001, 0.05), vec3(0.22360679774997894, 0.22360679774997894, 0.22360679774997894)), smoothUnion(sdf_boxcheap(inputPoint, vec3(0.05, 0.8500000000000001, 0.05), vec3(0.22360679774997894, 0.22360679774997894, 0.22360679774997894)), smoothUnion(sdf_boxcheap(inputPoint, vec3(0.1, 0.8, 0.0), vec3(0.229128784747792, 0.229128784747792, 0.229128784747792)), smoothUnion(sdf_boxcheap(inputPoint, vec3(0.05, 0.9, 0.0), vec3(0.25, 0.25, 0.25)), smoothUnion(sdf_boxcheap(inputPoint, vec3(0.0, 0.95, 0.0), vec3(0.25, 0.25, 0.25)), smoothUnion(sdf_boxcheap(inputPoint, vec3(0.05, 0.95, 0.0), vec3(0.25, 0.25, 0.25)), smoothUnion(sdf_boxcheap(inputPoint, vec3(0.0, 0.9, 0.0), vec3(0.2549509756796392, 0.2549509756796392, 0.2549509756796392)), smoothUnion(sdf_boxcheap(inputPoint, vec3(0.05, 0.8500000000000001, 0.0), vec3(0.2549509756796393, 0.2549509756796393, 0.2549509756796393)), smoothUnion(sdf_boxcheap(inputPoint, vec3(0.0, 0.8500000000000001, 0.0), vec3(0.2692582403567252, 0.2692582403567252, 0.2692582403567252)), sdf_boxcheap(inputPoint, vec3(0.2, 0.1, 0.95), vec3(0.4582575694955841, 0.4582575694955841, 0.4582575694955841)))))))))))))))))))))))))))))))))))))))))))))))))));\n",
      "}\n",
      "float cubeSDFFinal3(vec3 inputPoint) {\n",
      "return smoothUnion(sdf_boxcheap(inputPoint, vec3(0.15000000000000002, 0.95, 0.4), vec3(0.07071067811865478, 0.07071067811865478, 0.07071067811865478)), smoothUnion(sdf_boxcheap(inputPoint, vec3(0.65, 0.55, 0.4), vec3(0.07071067811865478, 0.07071067811865478, 0.07071067811865478)), smoothUnion(sdf_boxcheap(inputPoint, vec3(0.2, 0.95, 0.55), vec3(0.07071067811865478, 0.07071067811865478, 0.07071067811865478)), smoothUnion(sdf_boxcheap(inputPoint, vec3(0.15000000000000002, 0.9, 0.55), vec3(0.07071067811865478, 0.07071067811865478, 0.07071067811865478)), smoothUnion(sdf_boxcheap(inputPoint, vec3(0.0, 0.95, 0.35000000000000003), vec3(0.07071067811865478, 0.07071067811865478, 0.07071067811865478)), smoothUnion(sdf_boxcheap(inputPoint, vec3(0.2, 0.7000000000000001, 0.55), vec3(0.07071067811865478, 0.07071067811865478, 0.07071067811865478)), smoothUnion(sdf_boxcheap(inputPoint, vec3(0.2, 0.95, 0.8), vec3(0.07071067811865478, 0.07071067811865478, 0.07071067811865478)), smoothUnion(sdf_boxcheap(inputPoint, vec3(0.15000000000000002, 0.95, 0.45), vec3(0.07071067811865478, 0.07071067811865478, 0.07071067811865478)), smoothUnion(sdf_boxcheap(inputPoint, vec3(0.05, 0.95, 0.75), vec3(0.07071067811865478, 0.07071067811865478, 0.07071067811865478)), smoothUnion(sdf_boxcheap(inputPoint, vec3(0.15000000000000002, 0.95, 0.5), vec3(0.07071067811865478, 0.07071067811865478, 0.07071067811865478)), smoothUnion(sdf_boxcheap(inputPoint, vec3(0.15000000000000002, 0.7000000000000001, 0.55), vec3(0.0707106781186548, 0.0707106781186548, 0.0707106781186548)), smoothUnion(sdf_boxcheap(inputPoint, vec3(0.30000000000000004, 0.95, 0.2), vec3(0.0707106781186548, 0.0707106781186548, 0.0707106781186548)), smoothUnion(sdf_boxcheap(inputPoint, vec3(0.8, 0.6000000000000001, 0.95), vec3(0.07071067811865482, 0.07071067811865482, 0.07071067811865482)), smoothUnion(sdf_boxcheap(inputPoint, vec3(0.55, 0.55, 0.30000000000000004), vec3(0.07071067811865482, 0.07071067811865482, 0.07071067811865482)), smoothUnion(sdf_boxcheap(inputPoint, vec3(0.30000000000000004, 0.95, 0.55), vec3(0.07071067811865482, 0.07071067811865482, 0.07071067811865482)), smoothUnion(sdf_boxcheap(inputPoint, vec3(0.05, 0.95, 0.4), vec3(0.07071067811865482, 0.07071067811865482, 0.07071067811865482)), smoothUnion(sdf_boxcheap(inputPoint, vec3(0.30000000000000004, 0.95, 0.25), vec3(0.07071067811865482, 0.07071067811865482, 0.07071067811865482)), smoothUnion(sdf_boxcheap(inputPoint, vec3(0.1, 0.9, 0.5), vec3(0.08660254037844381, 0.08660254037844381, 0.08660254037844381)), smoothUnion(sdf_boxcheap(inputPoint, vec3(0.0, 0.9, 0.45), vec3(0.08660254037844382, 0.08660254037844382, 0.08660254037844382)), smoothUnion(sdf_boxcheap(inputPoint, vec3(0.30000000000000004, 0.9, 0.6000000000000001), vec3(0.08660254037844388, 0.08660254037844388, 0.08660254037844388)), smoothUnion(sdf_boxcheap(inputPoint, vec3(0.95, 0.35000000000000003, 0.9), vec3(0.08660254037844388, 0.08660254037844388, 0.08660254037844388)), smoothUnion(sdf_boxcheap(inputPoint, vec3(0.5, 0.55, 0.35000000000000003), vec3(0.0866025403784439, 0.0866025403784439, 0.0866025403784439)), smoothUnion(sdf_boxcheap(inputPoint, vec3(0.1, 0.95, 0.4), vec3(0.0866025403784439, 0.0866025403784439, 0.0866025403784439)), smoothUnion(sdf_boxcheap(inputPoint, vec3(0.0, 0.95, 0.4), vec3(0.0866025403784439, 0.0866025403784439, 0.0866025403784439)), smoothUnion(sdf_boxcheap(inputPoint, vec3(0.15000000000000002, 0.95, 0.55), vec3(0.0866025403784439, 0.0866025403784439, 0.0866025403784439)), smoothUnion(sdf_boxcheap(inputPoint, vec3(0.55, 0.55, 0.35000000000000003), vec3(0.08660254037844395, 0.08660254037844395, 0.08660254037844395)), smoothUnion(sdf_boxcheap(inputPoint, vec3(0.1, 0.75, 0.6000000000000001), vec3(0.09999999999999998, 0.09999999999999998, 0.09999999999999998)), smoothUnion(sdf_boxcheap(inputPoint, vec3(0.4, 0.65, 0.35000000000000003), vec3(0.10000000000000003, 0.10000000000000003, 0.10000000000000003)), smoothUnion(sdf_boxcheap(inputPoint, vec3(0.45, 0.65, 0.4), vec3(0.11180339887498944, 0.11180339887498944, 0.11180339887498944)), smoothUnion(sdf_boxcheap(inputPoint, vec3(0.45, 0.65, 0.30000000000000004), vec3(0.11180339887498944, 0.11180339887498944, 0.11180339887498944)), smoothUnion(sdf_boxcheap(inputPoint, vec3(0.5, 0.6000000000000001, 0.30000000000000004), vec3(0.11180339887498948, 0.11180339887498948, 0.11180339887498948)), smoothUnion(sdf_boxcheap(inputPoint, vec3(0.6000000000000001, 0.6000000000000001, 0.35000000000000003), vec3(0.11180339887498954, 0.11180339887498954, 0.11180339887498954)), smoothUnion(sdf_boxcheap(inputPoint, vec3(0.55, 0.6000000000000001, 0.30000000000000004), vec3(0.11180339887498954, 0.11180339887498954, 0.11180339887498954)), smoothUnion(sdf_boxcheap(inputPoint, vec3(0.2, 0.95, 0.75), vec3(0.11180339887498957, 0.11180339887498957, 0.11180339887498957)), smoothUnion(sdf_boxcheap(inputPoint, vec3(0.0, 0.95, 0.45), vec3(0.12247448713915887, 0.12247448713915887, 0.12247448713915887)), smoothUnion(sdf_boxcheap(inputPoint, vec3(0.5, 0.6000000000000001, 0.35000000000000003), vec3(0.12247448713915893, 0.12247448713915893, 0.12247448713915893)), smoothUnion(sdf_boxcheap(inputPoint, vec3(0.1, 0.95, 0.55), vec3(0.12247448713915896, 0.12247448713915896, 0.12247448713915896)), smoothUnion(sdf_boxcheap(inputPoint, vec3(0.55, 0.6000000000000001, 0.35000000000000003), vec3(0.122474487139159, 0.122474487139159, 0.122474487139159)), smoothUnion(sdf_boxcheap(inputPoint, vec3(0.5, 0.65, 0.30000000000000004), vec3(0.14142135623730948, 0.14142135623730948, 0.14142135623730948)), smoothUnion(sdf_boxcheap(inputPoint, vec3(0.65, 0.65, 0.35000000000000003), vec3(0.14142135623730948, 0.14142135623730948, 0.14142135623730948)), smoothUnion(sdf_boxcheap(inputPoint, vec3(0.05, 0.95, 0.5), vec3(0.14142135623730948, 0.14142135623730948, 0.14142135623730948)), smoothUnion(sdf_boxcheap(inputPoint, vec3(0.55, 0.65, 0.30000000000000004), vec3(0.14142135623730953, 0.14142135623730953, 0.14142135623730953)), smoothUnion(sdf_boxcheap(inputPoint, vec3(0.6000000000000001, 0.65, 0.30000000000000004), vec3(0.14142135623730953, 0.14142135623730953, 0.14142135623730953)), smoothUnion(sdf_boxcheap(inputPoint, vec3(0.05, 0.8500000000000001, 0.6000000000000001), vec3(0.14142135623730964, 0.14142135623730964, 0.14142135623730964)), smoothUnion(sdf_boxcheap(inputPoint, vec3(0.6000000000000001, 0.65, 0.35000000000000003), vec3(0.15811388300841894, 0.15811388300841894, 0.15811388300841894)), smoothUnion(sdf_boxcheap(inputPoint, vec3(0.5, 0.7000000000000001, 0.35000000000000003), vec3(0.18708286933869706, 0.18708286933869706, 0.18708286933869706)), smoothUnion(sdf_boxcheap(inputPoint, vec3(0.0, 0.95, 0.6000000000000001), vec3(0.2, 0.2, 0.2)), smoothUnion(sdf_boxcheap(inputPoint, vec3(0.8, 0.75, 0.75), vec3(0.2121320343559642, 0.2121320343559642, 0.2121320343559642)), smoothUnion(sdf_boxcheap(inputPoint, vec3(0.8, 0.8, 0.7000000000000001), vec3(0.2499999999999999, 0.2499999999999999, 0.2499999999999999)), sdf_boxcheap(inputPoint, vec3(0.8, 0.95, 0.55), vec3(0.3937003937005905, 0.3937003937005905, 0.3937003937005905)))))))))))))))))))))))))))))))))))))))))))))))))));\n",
      "}\n"
     ]
    }
   ],
   "source": [
    "print(functionsToBuildTotalScene)"
   ]
  },
  {
   "cell_type": "markdown",
   "metadata": {},
   "source": [
    "### TOTAL SceneSDF Function"
   ]
  },
  {
   "cell_type": "code",
   "execution_count": 184,
   "metadata": {},
   "outputs": [],
   "source": [
    "def generateSceneSDFFunction(baseNameOfFunctionWithParameter=\"soil{0}SDF\", internalValues=[]):\n",
    "    \n",
    "    sceneSDFFunction = \"\"\"\\n/**\n",
    " \\n* Signed distance function describing the scene.\n",
    " \\n* \n",
    " \\n* Absolute value of the return value indicates the distance to the surface.\n",
    " \\n* Sign indicates whether the point is inside or outside the surface,\n",
    " \\n* negative indicating inside.\n",
    " \\n*/\n",
    " \\nfloat sceneSDF(vec3 samplePoint) {\n",
    "\\n    float dist = max(\"\"\"\n",
    "\n",
    "    amountOfInternalValues = len(internalValues)\n",
    "\n",
    "    if amountOfInternalValues <= 1:\n",
    "        sceneSDFFunction += baseNameOfFunctionWithParameter.format(\"\") + \"(samplePoint)\"\n",
    "    else:\n",
    "        pre = baseNameOfFunctionWithParameter.format(0) + \"(samplePoint)\"\n",
    "        for i in range(1, amountOfInternalValues):\n",
    "            nameOfFunction = baseNameOfFunctionWithParameter.format(i) + \"(samplePoint)\"\n",
    "            minFunction = \"min({0}, {1})\".format(pre, nameOfFunction)\n",
    "            pre = minFunction\n",
    "        sceneSDFFunction += minFunction\n",
    "        \n",
    "    sceneSDFFunction += \"\"\", cubeSDF(samplePoint));\n",
    "    \\n    dist = max(dist, -sphereSDF(samplePoint, vec3(sin(iTime), cos(iTime),sin(iTime)), sin(0.23*3.0*iTime)));\n",
    "    \\n\n",
    "    \\n    return dist;\n",
    "    \\n}\"\"\"\n",
    "    \n",
    "    return sceneSDFFunction"
   ]
  },
  {
   "cell_type": "code",
   "execution_count": 185,
   "metadata": {},
   "outputs": [],
   "source": [
    "sceneFunction = generateSceneSDFFunction(baseNameFunctions, internalValues)"
   ]
  },
  {
   "cell_type": "code",
   "execution_count": 186,
   "metadata": {},
   "outputs": [
    {
     "name": "stdout",
     "output_type": "stream",
     "text": [
      "\n",
      "/**\n",
      " \n",
      "* Signed distance function describing the scene.\n",
      " \n",
      "* \n",
      " \n",
      "* Absolute value of the return value indicates the distance to the surface.\n",
      " \n",
      "* Sign indicates whether the point is inside or outside the surface,\n",
      " \n",
      "* negative indicating inside.\n",
      " \n",
      "*/\n",
      " \n",
      "float sceneSDF(vec3 samplePoint) {\n",
      "\n",
      "    float dist = max(min(min(min(cubeSDFFinal0(samplePoint), cubeSDFFinal1(samplePoint)), cubeSDFFinal2(samplePoint)), cubeSDFFinal3(samplePoint)), cubeSDF(samplePoint));\n",
      "    \n",
      "    dist = max(dist, -sphereSDF(samplePoint, vec3(sin(iTime), cos(iTime),sin(iTime)), sin(0.23*3.0*iTime)));\n",
      "    \n",
      "\n",
      "    \n",
      "    return dist;\n",
      "    \n",
      "}\n"
     ]
    }
   ],
   "source": [
    "print(sceneFunction)"
   ]
  },
  {
   "cell_type": "markdown",
   "metadata": {},
   "source": [
    "### Main function"
   ]
  },
  {
   "cell_type": "code",
   "execution_count": 187,
   "metadata": {},
   "outputs": [],
   "source": [
    "color1 = \"vec3(72.0/255.0,209.0/255.0,204.0/255.0)\"\n",
    "color2 = \"vec3(124.0/255.0,252.0/255.0,0.0)\"\n",
    "color3 = \"vec3(1.0,1.0,161.0/255.0)\"\n",
    "color4 = \"vec3(152.0/255.0,116.0/255.0,86.0/255.0)\"\n",
    "colorsOfStrates = [color1, color2, color3, color4]"
   ]
  },
  {
   "cell_type": "code",
   "execution_count": 188,
   "metadata": {},
   "outputs": [],
   "source": [
    "def generateMainFunction(baseNameOfFunctionWithParameter=\"soil{0}SDF\", internalValues=[]):\n",
    "    mainFunction = \"\"\"\\nvoid mainImage( out vec4 fragColor, in vec2 fragCoord )\n",
    "\\n{\n",
    "\\n    float angle = iTime*0.5;\n",
    "\\n    mat3 rotation = mat3(\n",
    "\\n            vec3(cos(angle), 0.0, -sin(angle)),\n",
    "\\n            vec3(0.0, 1.0, 0.0),\n",
    "\\n            vec3(sin(angle), 0.0, cos(angle))\n",
    "\\n        );\n",
    "\\n    vec3 dir = normalize(rotation*rayDirection(45.0, iResolution.xy, fragCoord));\n",
    "\\n    vec3 eye = rotation*vec3(0.0,0.0,10.0);\n",
    "\\n\n",
    "\\n    float dist = shortestDistanceToSurface(eye, dir, MIN_DIST, MAX_DIST);\n",
    "\\n    \n",
    "\\n    if (dist > MAX_DIST - EPSILON) {\n",
    "\\n        // Didn't hit anything\n",
    "\\n        fragColor = vec4(0.0, 0.0, 0.0, 0.0);\n",
    "\\n\t\treturn;\n",
    "\\n    }\n",
    "\\n\n",
    "\\n    // The closest point on the surface to the eyepoint along the view ray\n",
    "\\n    vec3 p = eye + dir * dist;\n",
    "\\n\n",
    "\\n    vec3 K_d = vec3(0.7, 0.7, 0.7);\n",
    "\\n    \"\"\"\n",
    "    \n",
    "    amountOfInternalValues = len(internalValues)\n",
    "    totalMinFunction = \"\\n    float minSdf = \"\n",
    "    if amountOfInternalValues <= 1:\n",
    "        variableName = baseNameOfFunctionWithParameter.format(\"\")\n",
    "        partMinFunction = variableName+\"(p)\"\n",
    "        \n",
    "        K_d_vectorDefinition = \"\\n    K_d = \"+colorsOfStrates[0]\n",
    "    else:\n",
    "        partMinFunction = \"\"\n",
    "        preMinFunction = \"sdf{0}\".format(0)\n",
    "        K_d_vectorDefinition = \"\\n    \"\n",
    "            \n",
    "        for i in range(amountOfInternalValues):\n",
    "            variableName = \"sdf{0}\".format(i)\n",
    "            \n",
    "            mainFunction += \"\\n    float \"+variableName+\" = \"+baseNameOfFunctionWithParameter.format(i)+\"(p);\"\n",
    "            \n",
    "            \n",
    "            partMinFunction = \"min({0}, {1})\".format(preMinFunction, variableName)\n",
    "            preMinFunction = partMinFunction\n",
    "            \n",
    "            K_d_vectorDefinition += \"\\n    if (abs({0} - minSdf) < 0.1)\".format(variableName)\n",
    "            K_d_vectorDefinition += \" {\"\n",
    "            K_d_vectorDefinition += \"\\n        K_d = {0};\".format(colorsOfStrates[i%len(colorsOfStrates)])\n",
    "            K_d_vectorDefinition += \"\\n    }\"\n",
    "            \n",
    "    \n",
    "    totalMinFunction += partMinFunction + \";\"\n",
    "\n",
    "    mainFunction += totalMinFunction\n",
    "    mainFunction += K_d_vectorDefinition\n",
    "    \n",
    "    mainFunction += \"\"\"\\n\n",
    "\\n    vec3 K_a = vec3(0.2, 0.2, 0.2);\n",
    "\\n    vec3 K_s = vec3(1.0, 1.0, 1.0);\n",
    "\\n    float shininess = 1.0;\n",
    "\\n    \n",
    "\\n    vec3 color = K_d;//phongIllumination(K_a, K_d, K_s, shininess, p, eye);\n",
    "\\n    \n",
    "\\n    fragColor = vec4(color * length(p), 1.0);\n",
    "\\n}\n",
    "\\n\n",
    "\\nvoid main() {\n",
    "\\n   mainImage(gl_FragColor, gl_FragCoord.xy);\n",
    "\\n}\"\"\"\n",
    "    \n",
    "    return mainFunction"
   ]
  },
  {
   "cell_type": "code",
   "execution_count": 189,
   "metadata": {},
   "outputs": [],
   "source": [
    "mainFunction = generateMainFunction(baseNameFunctions, internalValues)"
   ]
  },
  {
   "cell_type": "code",
   "execution_count": 190,
   "metadata": {},
   "outputs": [
    {
     "name": "stdout",
     "output_type": "stream",
     "text": [
      "\n",
      "void mainImage( out vec4 fragColor, in vec2 fragCoord )\n",
      "\n",
      "{\n",
      "\n",
      "    float angle = iTime*0.5;\n",
      "\n",
      "    mat3 rotation = mat3(\n",
      "\n",
      "            vec3(cos(angle), 0.0, -sin(angle)),\n",
      "\n",
      "            vec3(0.0, 1.0, 0.0),\n",
      "\n",
      "            vec3(sin(angle), 0.0, cos(angle))\n",
      "\n",
      "        );\n",
      "\n",
      "    vec3 dir = normalize(rotation*rayDirection(45.0, iResolution.xy, fragCoord));\n",
      "\n",
      "    vec3 eye = rotation*vec3(0.0,0.0,10.0);\n",
      "\n",
      "\n",
      "\n",
      "    float dist = shortestDistanceToSurface(eye, dir, MIN_DIST, MAX_DIST);\n",
      "\n",
      "    \n",
      "\n",
      "    if (dist > MAX_DIST - EPSILON) {\n",
      "\n",
      "        // Didn't hit anything\n",
      "\n",
      "        fragColor = vec4(0.0, 0.0, 0.0, 0.0);\n",
      "\n",
      "\t\treturn;\n",
      "\n",
      "    }\n",
      "\n",
      "\n",
      "\n",
      "    // The closest point on the surface to the eyepoint along the view ray\n",
      "\n",
      "    vec3 p = eye + dir * dist;\n",
      "\n",
      "\n",
      "\n",
      "    vec3 K_d = vec3(0.7, 0.7, 0.7);\n",
      "\n",
      "    \n",
      "    float sdf0 = cubeSDFFinal0(p);\n",
      "    float sdf1 = cubeSDFFinal1(p);\n",
      "    float sdf2 = cubeSDFFinal2(p);\n",
      "    float sdf3 = cubeSDFFinal3(p);\n",
      "    float minSdf = min(min(min(min(sdf0, sdf0), sdf1), sdf2), sdf3);\n",
      "    \n",
      "    if (abs(sdf0 - minSdf) < 0.1) {\n",
      "        K_d = vec3(72.0/255.0,209.0/255.0,204.0/255.0);\n",
      "    }\n",
      "    if (abs(sdf1 - minSdf) < 0.1) {\n",
      "        K_d = vec3(124.0/255.0,252.0/255.0,0.0);\n",
      "    }\n",
      "    if (abs(sdf2 - minSdf) < 0.1) {\n",
      "        K_d = vec3(1.0,1.0,161.0/255.0);\n",
      "    }\n",
      "    if (abs(sdf3 - minSdf) < 0.1) {\n",
      "        K_d = vec3(152.0/255.0,116.0/255.0,86.0/255.0);\n",
      "    }\n",
      "\n",
      "\n",
      "    vec3 K_a = vec3(0.2, 0.2, 0.2);\n",
      "\n",
      "    vec3 K_s = vec3(1.0, 1.0, 1.0);\n",
      "\n",
      "    float shininess = 1.0;\n",
      "\n",
      "    \n",
      "\n",
      "    vec3 color = K_d;//phongIllumination(K_a, K_d, K_s, shininess, p, eye);\n",
      "\n",
      "    \n",
      "\n",
      "    fragColor = vec4(color * length(p), 1.0);\n",
      "\n",
      "}\n",
      "\n",
      "\n",
      "\n",
      "void main() {\n",
      "\n",
      "   mainImage(gl_FragColor, gl_FragCoord.xy);\n",
      "\n",
      "}\n"
     ]
    }
   ],
   "source": [
    "print(mainFunction)"
   ]
  },
  {
   "cell_type": "markdown",
   "metadata": {},
   "source": [
    "# Crear archivo shader"
   ]
  },
  {
   "cell_type": "code",
   "execution_count": 191,
   "metadata": {},
   "outputs": [],
   "source": [
    "import os\n",
    "# remove file if it exists\n",
    "shaderFileName = './files/shader/raymarcher.glsl'\n",
    "try:\n",
    "    os.remove(shaderFileName)\n",
    "except OSError:\n",
    "    pass\n",
    "\n",
    "\n",
    "# import module\n",
    "import shutil\n",
    "  \n",
    "# use copyfile() --> copy init basic shader\n",
    "shutil.copyfile('./files/shader/init_basic_shader.glsl',shaderFileName)\n",
    "\n",
    "# write scene function\n",
    "text_file = open(shaderFileName, \"a\")\n",
    "text_file.write(functionsToBuildTotalScene)\n",
    "text_file.write(sceneFunction)\n",
    "\n",
    "text_file.close()\n",
    "\n",
    "# copy final basic shader\n",
    "file_source = './files/shader/basic_shader.glsl'  \n",
    "f_src = open(file_source, 'r')\n",
    "\n",
    "file_destination = shaderFileName  \n",
    "f_dest = open(file_destination, 'a')\n",
    "\n",
    "shutil.copyfileobj(f_src, f_dest) \n",
    "f_dest.write(mainFunction)\n",
    "\n",
    "f_dest.close()\n",
    "f_src.close()"
   ]
  },
  {
   "cell_type": "code",
   "execution_count": 171,
   "metadata": {},
   "outputs": [],
   "source": [
    "# TODO: ver que pasa en todas las funciones si no hay internalValues"
   ]
  },
  {
   "cell_type": "code",
   "execution_count": null,
   "metadata": {},
   "outputs": [],
   "source": []
  }
 ],
 "metadata": {
  "kernelspec": {
   "display_name": "Python 3",
   "language": "python",
   "name": "python3"
  },
  "language_info": {
   "codemirror_mode": {
    "name": "ipython",
    "version": 3
   },
   "file_extension": ".py",
   "mimetype": "text/x-python",
   "name": "python",
   "nbconvert_exporter": "python",
   "pygments_lexer": "ipython3",
   "version": "3.6.9"
  }
 },
 "nbformat": 4,
 "nbformat_minor": 2
}
