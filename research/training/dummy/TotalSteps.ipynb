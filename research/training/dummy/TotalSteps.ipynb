{
 "cells": [
  {
   "cell_type": "markdown",
   "metadata": {},
   "source": [
    "# SI <font color='red'>YA ESTA GUARDADO</font> EL TERRENO CON SDF"
   ]
  },
  {
   "cell_type": "markdown",
   "metadata": {},
   "source": [
    "## Leer el dataframe guardado"
   ]
  },
  {
   "cell_type": "code",
   "execution_count": 85,
   "metadata": {},
   "outputs": [],
   "source": [
    "import numpy as np\n",
    "dataframe = pd.read_csv('./files/terrain_sdf.csv')"
   ]
  },
  {
   "cell_type": "code",
   "execution_count": 86,
   "metadata": {},
   "outputs": [
    {
     "data": {
      "text/html": [
       "<div>\n",
       "<style scoped>\n",
       "    .dataframe tbody tr th:only-of-type {\n",
       "        vertical-align: middle;\n",
       "    }\n",
       "\n",
       "    .dataframe tbody tr th {\n",
       "        vertical-align: top;\n",
       "    }\n",
       "\n",
       "    .dataframe thead th {\n",
       "        text-align: right;\n",
       "    }\n",
       "</style>\n",
       "<table border=\"1\" class=\"dataframe\">\n",
       "  <thead>\n",
       "    <tr style=\"text-align: right;\">\n",
       "      <th></th>\n",
       "      <th>x</th>\n",
       "      <th>y</th>\n",
       "      <th>z</th>\n",
       "      <th>density</th>\n",
       "      <th>distance</th>\n",
       "    </tr>\n",
       "  </thead>\n",
       "  <tbody>\n",
       "    <tr>\n",
       "      <th>0</th>\n",
       "      <td>0</td>\n",
       "      <td>0</td>\n",
       "      <td>0</td>\n",
       "      <td>0.000000</td>\n",
       "      <td>7.348469</td>\n",
       "    </tr>\n",
       "    <tr>\n",
       "      <th>1</th>\n",
       "      <td>0</td>\n",
       "      <td>0</td>\n",
       "      <td>1</td>\n",
       "      <td>0.253968</td>\n",
       "      <td>6.708204</td>\n",
       "    </tr>\n",
       "    <tr>\n",
       "      <th>2</th>\n",
       "      <td>0</td>\n",
       "      <td>0</td>\n",
       "      <td>2</td>\n",
       "      <td>0.000000</td>\n",
       "      <td>6.164414</td>\n",
       "    </tr>\n",
       "    <tr>\n",
       "      <th>3</th>\n",
       "      <td>0</td>\n",
       "      <td>0</td>\n",
       "      <td>3</td>\n",
       "      <td>-0.253968</td>\n",
       "      <td>5.744563</td>\n",
       "    </tr>\n",
       "    <tr>\n",
       "      <th>4</th>\n",
       "      <td>0</td>\n",
       "      <td>0</td>\n",
       "      <td>4</td>\n",
       "      <td>0.000000</td>\n",
       "      <td>5.477226</td>\n",
       "    </tr>\n",
       "    <tr>\n",
       "      <th>...</th>\n",
       "      <td>...</td>\n",
       "      <td>...</td>\n",
       "      <td>...</td>\n",
       "      <td>...</td>\n",
       "      <td>...</td>\n",
       "    </tr>\n",
       "    <tr>\n",
       "      <th>7995</th>\n",
       "      <td>19</td>\n",
       "      <td>19</td>\n",
       "      <td>15</td>\n",
       "      <td>0.063492</td>\n",
       "      <td>5.000000</td>\n",
       "    </tr>\n",
       "    <tr>\n",
       "      <th>7996</th>\n",
       "      <td>19</td>\n",
       "      <td>19</td>\n",
       "      <td>16</td>\n",
       "      <td>-0.126984</td>\n",
       "      <td>5.099020</td>\n",
       "    </tr>\n",
       "    <tr>\n",
       "      <th>7997</th>\n",
       "      <td>19</td>\n",
       "      <td>19</td>\n",
       "      <td>17</td>\n",
       "      <td>0.000000</td>\n",
       "      <td>5.385165</td>\n",
       "    </tr>\n",
       "    <tr>\n",
       "      <th>7998</th>\n",
       "      <td>19</td>\n",
       "      <td>19</td>\n",
       "      <td>18</td>\n",
       "      <td>-0.063492</td>\n",
       "      <td>5.830952</td>\n",
       "    </tr>\n",
       "    <tr>\n",
       "      <th>7999</th>\n",
       "      <td>19</td>\n",
       "      <td>19</td>\n",
       "      <td>19</td>\n",
       "      <td>-0.126984</td>\n",
       "      <td>6.403124</td>\n",
       "    </tr>\n",
       "  </tbody>\n",
       "</table>\n",
       "<p>8000 rows × 5 columns</p>\n",
       "</div>"
      ],
      "text/plain": [
       "       x   y   z   density  distance\n",
       "0      0   0   0  0.000000  7.348469\n",
       "1      0   0   1  0.253968  6.708204\n",
       "2      0   0   2  0.000000  6.164414\n",
       "3      0   0   3 -0.253968  5.744563\n",
       "4      0   0   4  0.000000  5.477226\n",
       "...   ..  ..  ..       ...       ...\n",
       "7995  19  19  15  0.063492  5.000000\n",
       "7996  19  19  16 -0.126984  5.099020\n",
       "7997  19  19  17  0.000000  5.385165\n",
       "7998  19  19  18 -0.063492  5.830952\n",
       "7999  19  19  19 -0.126984  6.403124\n",
       "\n",
       "[8000 rows x 5 columns]"
      ]
     },
     "execution_count": 86,
     "metadata": {},
     "output_type": "execute_result"
    }
   ],
   "source": [
    "dataframe"
   ]
  },
  {
   "cell_type": "markdown",
   "metadata": {},
   "source": [
    "### AHORA PODES PASAR  <font color='orange'>DIRECTO AL PASO 5 </font>"
   ]
  },
  {
   "cell_type": "markdown",
   "metadata": {},
   "source": [
    "# SI <font color='red'>NO ESTA GUARDADO</font> EL TERRENO CON SDF EN UN ARCHIVO\n",
    "Tenes que correr todo este archivo desde el paso 1"
   ]
  },
  {
   "cell_type": "markdown",
   "metadata": {},
   "source": [
    "# 1. Generacion de cubo de tierra (datos)"
   ]
  },
  {
   "cell_type": "code",
   "execution_count": 1,
   "metadata": {},
   "outputs": [
    {
     "name": "stdout",
     "output_type": "stream",
     "text": [
      "Defaulting to user installation because normal site-packages is not writeable\n",
      "Requirement already satisfied: noise in /home/flor/.local/lib/python3.6/site-packages (1.2.2)\n",
      "\u001b[33mWARNING: You are using pip version 20.3.1; however, version 21.1.1 is available.\n",
      "You should consider upgrading via the '/usr/bin/python3 -m pip install --upgrade pip' command.\u001b[0m\n"
     ]
    }
   ],
   "source": [
    "!pip install noise"
   ]
  },
  {
   "cell_type": "code",
   "execution_count": 244,
   "metadata": {},
   "outputs": [],
   "source": [
    "import numpy as np\n",
    "import noise\n",
    "\n",
    "def generate_terrain():\n",
    "    shape = (20, 20, 20)\n",
    "    scale = 2.0\n",
    "    octaves = 6\n",
    "    persistence = 0.5\n",
    "    lacunarity = 2.0\n",
    "\n",
    "    world = np.zeros(shape)\n",
    "\n",
    "    for i in range(shape[0]):\n",
    "        for j in range(shape[1]):\n",
    "            for k in range(shape[2]):\n",
    "                density = noise.pnoise3(i / scale,\n",
    "                                        j / scale,\n",
    "                                        k / scale,\n",
    "                                        octaves=octaves,\n",
    "                                        persistence=persistence,\n",
    "                                        lacunarity=lacunarity,\n",
    "                                        repeatx=1024,\n",
    "                                        repeaty=1024,\n",
    "                                        repeatz=1024,\n",
    "                                        base=42)\n",
    "                world[i][j][k] = density\n",
    "\n",
    "    #plot_dataframe(world)\n",
    "    return world"
   ]
  },
  {
   "cell_type": "code",
   "execution_count": 245,
   "metadata": {},
   "outputs": [
    {
     "ename": "IndexError",
     "evalue": "only integers, slices (`:`), ellipsis (`...`), numpy.newaxis (`None`) and integer or boolean arrays are valid indices",
     "output_type": "error",
     "traceback": [
      "\u001b[0;31m---------------------------------------------------------------------------\u001b[0m",
      "\u001b[0;31mIndexError\u001b[0m                                Traceback (most recent call last)",
      "\u001b[0;32m<ipython-input-245-0945878d9412>\u001b[0m in \u001b[0;36m<module>\u001b[0;34m()\u001b[0m\n\u001b[0;32m----> 1\u001b[0;31m \u001b[0mterrain\u001b[0m \u001b[0;34m=\u001b[0m \u001b[0mgenerate_terrain\u001b[0m\u001b[0;34m(\u001b[0m\u001b[0;34m)\u001b[0m\u001b[0;34m\u001b[0m\u001b[0;34m\u001b[0m\u001b[0m\n\u001b[0m",
      "\u001b[0;32m<ipython-input-244-0b59ef2864f8>\u001b[0m in \u001b[0;36mgenerate_terrain\u001b[0;34m()\u001b[0m\n\u001b[1;32m     24\u001b[0m                                         \u001b[0mrepeatz\u001b[0m\u001b[0;34m=\u001b[0m\u001b[0;36m1024\u001b[0m\u001b[0;34m,\u001b[0m\u001b[0;34m\u001b[0m\u001b[0;34m\u001b[0m\u001b[0m\n\u001b[1;32m     25\u001b[0m                                         base=42)\n\u001b[0;32m---> 26\u001b[0;31m                 \u001b[0mworld\u001b[0m\u001b[0;34m[\u001b[0m\u001b[0mi\u001b[0m \u001b[0;34m/\u001b[0m \u001b[0mscale\u001b[0m\u001b[0;34m]\u001b[0m\u001b[0;34m[\u001b[0m\u001b[0mj\u001b[0m \u001b[0;34m/\u001b[0m \u001b[0mscale\u001b[0m\u001b[0;34m]\u001b[0m\u001b[0;34m[\u001b[0m\u001b[0mk\u001b[0m \u001b[0;34m/\u001b[0m \u001b[0mscale\u001b[0m\u001b[0;34m]\u001b[0m \u001b[0;34m=\u001b[0m \u001b[0mdensity\u001b[0m\u001b[0;34m\u001b[0m\u001b[0;34m\u001b[0m\u001b[0m\n\u001b[0m\u001b[1;32m     27\u001b[0m \u001b[0;34m\u001b[0m\u001b[0m\n\u001b[1;32m     28\u001b[0m     \u001b[0;31m#plot_dataframe(world)\u001b[0m\u001b[0;34m\u001b[0m\u001b[0;34m\u001b[0m\u001b[0;34m\u001b[0m\u001b[0m\n",
      "\u001b[0;31mIndexError\u001b[0m: only integers, slices (`:`), ellipsis (`...`), numpy.newaxis (`None`) and integer or boolean arrays are valid indices"
     ]
    }
   ],
   "source": [
    "terrain = generate_terrain()"
   ]
  },
  {
   "cell_type": "code",
   "execution_count": 246,
   "metadata": {},
   "outputs": [
    {
     "data": {
      "text/plain": [
       "array([[[ 0.        ,  0.25396827,  0.        , ...,  0.25396827,\n",
       "          0.        ,  0.        ],\n",
       "        [ 0.12698413,  0.19047619,  0.        , ...,  0.25396827,\n",
       "          0.        , -0.06349207],\n",
       "        [ 0.        ,  0.        ,  0.        , ...,  0.12698413,\n",
       "          0.        , -0.25396827],\n",
       "        ...,\n",
       "        [-0.25396827, -0.19047619, -0.12698413, ...,  0.19047619,\n",
       "          0.        , -0.38095239],\n",
       "        [ 0.        ,  0.        ,  0.        , ...,  0.25396827,\n",
       "          0.        , -0.25396827],\n",
       "        [ 0.12698413,  0.25396827,  0.25396827, ...,  0.19047619,\n",
       "          0.        ,  0.        ]],\n",
       "\n",
       "       [[ 0.25396827,  0.06349207, -0.25396827, ...,  0.        ,\n",
       "         -0.25396827,  0.        ],\n",
       "        [ 0.25396827,  0.12698413, -0.19047619, ...,  0.06349207,\n",
       "          0.        ,  0.06349207],\n",
       "        [ 0.        ,  0.12698413,  0.        , ...,  0.12698413,\n",
       "          0.25396827,  0.        ],\n",
       "        ...,\n",
       "        [-0.25396827, -0.12698413, -0.06349207, ...,  0.06349207,\n",
       "         -0.06349207, -0.25396827],\n",
       "        [-0.25396827, -0.12698413,  0.        , ...,  0.12698413,\n",
       "          0.        , -0.06349207],\n",
       "        [-0.25396827,  0.06349207,  0.31746033, ...,  0.12698413,\n",
       "          0.06349207,  0.        ]],\n",
       "\n",
       "       [[ 0.        , -0.12698413,  0.        , ...,  0.        ,\n",
       "          0.        ,  0.        ],\n",
       "        [ 0.12698413,  0.06349207, -0.12698413, ..., -0.19047619,\n",
       "          0.        ,  0.06349207],\n",
       "        [ 0.        ,  0.25396827,  0.        , ..., -0.25396827,\n",
       "          0.        ,  0.        ],\n",
       "        ...,\n",
       "        [ 0.        ,  0.06349207,  0.        , ...,  0.        ,\n",
       "          0.        , -0.06349207],\n",
       "        [ 0.        ,  0.        ,  0.        , ...,  0.        ,\n",
       "          0.        ,  0.        ],\n",
       "        [-0.25396827, -0.06349207,  0.12698413, ...,  0.12698413,\n",
       "          0.12698413, -0.06349207]],\n",
       "\n",
       "       ...,\n",
       "\n",
       "       [[ 0.        ,  0.        , -0.12698413, ...,  0.        ,\n",
       "         -0.12698413,  0.06349207],\n",
       "        [-0.25396827, -0.19047619, -0.19047619, ...,  0.06349207,\n",
       "         -0.06349207,  0.19047619],\n",
       "        [-0.12698413, -0.12698413, -0.12698413, ...,  0.        ,\n",
       "          0.        ,  0.19047619],\n",
       "        ...,\n",
       "        [ 0.19047619,  0.        ,  0.12698413, ..., -0.12698413,\n",
       "         -0.12698413,  0.        ],\n",
       "        [ 0.        , -0.12698413, -0.12698413, ..., -0.12698413,\n",
       "         -0.25396827,  0.06349207],\n",
       "        [-0.12698413, -0.19047619, -0.12698413, ..., -0.12698413,\n",
       "         -0.12698413,  0.        ]],\n",
       "\n",
       "       [[ 0.        , -0.12698413,  0.        , ...,  0.        ,\n",
       "          0.        ,  0.        ],\n",
       "        [-0.25396827, -0.25396827, -0.25396827, ...,  0.06349207,\n",
       "          0.        ,  0.19047619],\n",
       "        [ 0.        ,  0.12698413,  0.        , ...,  0.12698413,\n",
       "          0.        ,  0.12698413],\n",
       "        ...,\n",
       "        [ 0.        , -0.12698413,  0.25396827, ..., -0.19047619,\n",
       "         -0.12698413, -0.06349207],\n",
       "        [ 0.        , -0.25396827,  0.        , ...,  0.12698413,\n",
       "          0.        ,  0.        ],\n",
       "        [ 0.        , -0.12698413,  0.        , ...,  0.        ,\n",
       "         -0.12698413, -0.19047619]],\n",
       "\n",
       "       [[ 0.        , -0.06349207,  0.12698413, ..., -0.06349207,\n",
       "          0.        ,  0.        ],\n",
       "        [-0.19047619, -0.19047619, -0.12698413, ...,  0.12698413,\n",
       "          0.06349207,  0.12698413],\n",
       "        [ 0.12698413,  0.06349207, -0.12698413, ...,  0.12698413,\n",
       "          0.        , -0.06349207],\n",
       "        ...,\n",
       "        [-0.19047619, -0.12698413,  0.12698413, ..., -0.12698413,\n",
       "          0.19047619,  0.        ],\n",
       "        [-0.12698413, -0.06349207,  0.        , ...,  0.        ,\n",
       "          0.12698413,  0.        ],\n",
       "        [ 0.        ,  0.06349207,  0.06349207, ...,  0.        ,\n",
       "         -0.06349207, -0.12698413]]])"
      ]
     },
     "execution_count": 246,
     "metadata": {},
     "output_type": "execute_result"
    }
   ],
   "source": [
    "terrain"
   ]
  },
  {
   "cell_type": "markdown",
   "metadata": {},
   "source": [
    "# 2. Funcion para pasar de matriz a dataframe"
   ]
  },
  {
   "cell_type": "code",
   "execution_count": 269,
   "metadata": {},
   "outputs": [],
   "source": [
    "import pandas as pd\n",
    "def using_multiindex(A, columns):\n",
    "    scale = 0.05\n",
    "    shape = A.shape\n",
    "    index = pd.MultiIndex.from_product([list(map(lambda number: number * scale, range(s))) for s in shape], names=columns)\n",
    "    df = pd.DataFrame({'density': A.flatten()}, index=index).reset_index()\n",
    "    return df"
   ]
  },
  {
   "cell_type": "code",
   "execution_count": 270,
   "metadata": {},
   "outputs": [],
   "source": [
    "dataframe_terrain = using_multiindex(terrain, list('xyz'))"
   ]
  },
  {
   "cell_type": "code",
   "execution_count": 271,
   "metadata": {},
   "outputs": [
    {
     "data": {
      "text/html": [
       "<div>\n",
       "<style scoped>\n",
       "    .dataframe tbody tr th:only-of-type {\n",
       "        vertical-align: middle;\n",
       "    }\n",
       "\n",
       "    .dataframe tbody tr th {\n",
       "        vertical-align: top;\n",
       "    }\n",
       "\n",
       "    .dataframe thead th {\n",
       "        text-align: right;\n",
       "    }\n",
       "</style>\n",
       "<table border=\"1\" class=\"dataframe\">\n",
       "  <thead>\n",
       "    <tr style=\"text-align: right;\">\n",
       "      <th></th>\n",
       "      <th>x</th>\n",
       "      <th>y</th>\n",
       "      <th>z</th>\n",
       "      <th>density</th>\n",
       "    </tr>\n",
       "  </thead>\n",
       "  <tbody>\n",
       "    <tr>\n",
       "      <th>0</th>\n",
       "      <td>0.00</td>\n",
       "      <td>0.00</td>\n",
       "      <td>0.00</td>\n",
       "      <td>0.000000</td>\n",
       "    </tr>\n",
       "    <tr>\n",
       "      <th>1</th>\n",
       "      <td>0.00</td>\n",
       "      <td>0.00</td>\n",
       "      <td>0.05</td>\n",
       "      <td>0.253968</td>\n",
       "    </tr>\n",
       "    <tr>\n",
       "      <th>2</th>\n",
       "      <td>0.00</td>\n",
       "      <td>0.00</td>\n",
       "      <td>0.10</td>\n",
       "      <td>0.000000</td>\n",
       "    </tr>\n",
       "    <tr>\n",
       "      <th>3</th>\n",
       "      <td>0.00</td>\n",
       "      <td>0.00</td>\n",
       "      <td>0.15</td>\n",
       "      <td>-0.253968</td>\n",
       "    </tr>\n",
       "    <tr>\n",
       "      <th>4</th>\n",
       "      <td>0.00</td>\n",
       "      <td>0.00</td>\n",
       "      <td>0.20</td>\n",
       "      <td>0.000000</td>\n",
       "    </tr>\n",
       "    <tr>\n",
       "      <th>...</th>\n",
       "      <td>...</td>\n",
       "      <td>...</td>\n",
       "      <td>...</td>\n",
       "      <td>...</td>\n",
       "    </tr>\n",
       "    <tr>\n",
       "      <th>7995</th>\n",
       "      <td>0.95</td>\n",
       "      <td>0.95</td>\n",
       "      <td>0.75</td>\n",
       "      <td>0.063492</td>\n",
       "    </tr>\n",
       "    <tr>\n",
       "      <th>7996</th>\n",
       "      <td>0.95</td>\n",
       "      <td>0.95</td>\n",
       "      <td>0.80</td>\n",
       "      <td>-0.126984</td>\n",
       "    </tr>\n",
       "    <tr>\n",
       "      <th>7997</th>\n",
       "      <td>0.95</td>\n",
       "      <td>0.95</td>\n",
       "      <td>0.85</td>\n",
       "      <td>0.000000</td>\n",
       "    </tr>\n",
       "    <tr>\n",
       "      <th>7998</th>\n",
       "      <td>0.95</td>\n",
       "      <td>0.95</td>\n",
       "      <td>0.90</td>\n",
       "      <td>-0.063492</td>\n",
       "    </tr>\n",
       "    <tr>\n",
       "      <th>7999</th>\n",
       "      <td>0.95</td>\n",
       "      <td>0.95</td>\n",
       "      <td>0.95</td>\n",
       "      <td>-0.126984</td>\n",
       "    </tr>\n",
       "  </tbody>\n",
       "</table>\n",
       "<p>8000 rows × 4 columns</p>\n",
       "</div>"
      ],
      "text/plain": [
       "         x     y     z   density\n",
       "0     0.00  0.00  0.00  0.000000\n",
       "1     0.00  0.00  0.05  0.253968\n",
       "2     0.00  0.00  0.10  0.000000\n",
       "3     0.00  0.00  0.15 -0.253968\n",
       "4     0.00  0.00  0.20  0.000000\n",
       "...    ...   ...   ...       ...\n",
       "7995  0.95  0.95  0.75  0.063492\n",
       "7996  0.95  0.95  0.80 -0.126984\n",
       "7997  0.95  0.95  0.85  0.000000\n",
       "7998  0.95  0.95  0.90 -0.063492\n",
       "7999  0.95  0.95  0.95 -0.126984\n",
       "\n",
       "[8000 rows x 4 columns]"
      ]
     },
     "execution_count": 271,
     "metadata": {},
     "output_type": "execute_result"
    }
   ],
   "source": [
    "dataframe_terrain"
   ]
  },
  {
   "cell_type": "code",
   "execution_count": 272,
   "metadata": {},
   "outputs": [
    {
     "data": {
      "text/html": [
       "<div>\n",
       "<style scoped>\n",
       "    .dataframe tbody tr th:only-of-type {\n",
       "        vertical-align: middle;\n",
       "    }\n",
       "\n",
       "    .dataframe tbody tr th {\n",
       "        vertical-align: top;\n",
       "    }\n",
       "\n",
       "    .dataframe thead th {\n",
       "        text-align: right;\n",
       "    }\n",
       "</style>\n",
       "<table border=\"1\" class=\"dataframe\">\n",
       "  <thead>\n",
       "    <tr style=\"text-align: right;\">\n",
       "      <th></th>\n",
       "      <th>z</th>\n",
       "    </tr>\n",
       "  </thead>\n",
       "  <tbody>\n",
       "    <tr>\n",
       "      <th>0</th>\n",
       "      <td>0.00</td>\n",
       "    </tr>\n",
       "    <tr>\n",
       "      <th>1</th>\n",
       "      <td>0.05</td>\n",
       "    </tr>\n",
       "    <tr>\n",
       "      <th>2</th>\n",
       "      <td>0.10</td>\n",
       "    </tr>\n",
       "    <tr>\n",
       "      <th>3</th>\n",
       "      <td>0.15</td>\n",
       "    </tr>\n",
       "    <tr>\n",
       "      <th>4</th>\n",
       "      <td>0.20</td>\n",
       "    </tr>\n",
       "    <tr>\n",
       "      <th>...</th>\n",
       "      <td>...</td>\n",
       "    </tr>\n",
       "    <tr>\n",
       "      <th>7995</th>\n",
       "      <td>0.75</td>\n",
       "    </tr>\n",
       "    <tr>\n",
       "      <th>7996</th>\n",
       "      <td>0.80</td>\n",
       "    </tr>\n",
       "    <tr>\n",
       "      <th>7997</th>\n",
       "      <td>0.85</td>\n",
       "    </tr>\n",
       "    <tr>\n",
       "      <th>7998</th>\n",
       "      <td>0.90</td>\n",
       "    </tr>\n",
       "    <tr>\n",
       "      <th>7999</th>\n",
       "      <td>0.95</td>\n",
       "    </tr>\n",
       "  </tbody>\n",
       "</table>\n",
       "<p>8000 rows × 1 columns</p>\n",
       "</div>"
      ],
      "text/plain": [
       "         z\n",
       "0     0.00\n",
       "1     0.05\n",
       "2     0.10\n",
       "3     0.15\n",
       "4     0.20\n",
       "...    ...\n",
       "7995  0.75\n",
       "7996  0.80\n",
       "7997  0.85\n",
       "7998  0.90\n",
       "7999  0.95\n",
       "\n",
       "[8000 rows x 1 columns]"
      ]
     },
     "execution_count": 272,
     "metadata": {},
     "output_type": "execute_result"
    }
   ],
   "source": [
    "dataframe_terrain[['z']]"
   ]
  },
  {
   "cell_type": "markdown",
   "metadata": {},
   "source": [
    "# 3. Dataframe a SDF"
   ]
  },
  {
   "cell_type": "code",
   "execution_count": 251,
   "metadata": {},
   "outputs": [],
   "source": [
    "from math import sqrt\n",
    "\n",
    "\n",
    "def distanceSquared3D(point, other):\n",
    "    return sqrt((point[0]-other[0])**2 + (point[1]-other[1])**2 + (point[2]-other[2])**2)\n",
    "\n",
    "\n",
    "def getDistance(x, y, z, realInternalValue, internalValue = [0,1], columns = ['x','y','z','lineid']):\n",
    "    coords = dataframe[columns]\n",
    "    #print(\"internalValue: {} - realInternalValue: {}\".format(internalValue, realInternalValue))\n",
    "    \n",
    "    realInternalValueIsAnInternalValue = internalValue[0] <= realInternalValue <= internalValue[1]\n",
    "    #print(realInternalValueIsAnInternalValue)\n",
    "    if realInternalValueIsAnInternalValue:\n",
    "        # filtrar coords: quedarme con los distintos a internalValue\n",
    "        coords = coords[~coords[columns[3]].between(internalValue[0], internalValue[1])]\n",
    "    else:\n",
    "        # filtrar coords: quedarme con los de igual a internalValue\n",
    "        coords = coords[coords[columns[3]].between(internalValue[0], internalValue[1])]\n",
    "    \n",
    "    distances = coords.apply(lambda row: distanceSquared3D((x,y,z),(float(row[columns[0]]), float(row[columns[1]]), float(row[columns[2]]))), axis=1)\n",
    "       \n",
    "    min_distance = distances.min()\n",
    "    if realInternalValueIsAnInternalValue:\n",
    "        return -(min_distance)\n",
    "    \n",
    "    #print(min_distance)\n",
    "    return min_distance\n",
    "        \n",
    "    \n",
    "def dataframe_to_sdf(dataframe, internalValue = [0,1], columns = ['x','y','z','lineid']): #columns = [x, y, z, faultid, lineid]\n",
    "    dataframe[\"distance\"] = dataframe.apply(lambda x: getDistance(x[columns[0]], x[columns[1]], x[columns[2]], x[columns[3]], internalValue, columns), axis=1)\n",
    "    return dataframe"
   ]
  },
  {
   "cell_type": "code",
   "execution_count": 273,
   "metadata": {},
   "outputs": [
    {
     "data": {
      "text/plain": [
       "0.2539682686328888"
      ]
     },
     "execution_count": 273,
     "metadata": {},
     "output_type": "execute_result"
    }
   ],
   "source": [
    "#obtengo la densidad de uno de los puntos\n",
    "dataframe_terrain.iloc[1].density"
   ]
  },
  {
   "cell_type": "code",
   "execution_count": 274,
   "metadata": {},
   "outputs": [
    {
     "name": "stdout",
     "output_type": "stream",
     "text": [
      "Calcularlo con 'map' tardo 29.93893313407898 segundos\n"
     ]
    },
    {
     "data": {
      "text/html": [
       "<div>\n",
       "<style scoped>\n",
       "    .dataframe tbody tr th:only-of-type {\n",
       "        vertical-align: middle;\n",
       "    }\n",
       "\n",
       "    .dataframe tbody tr th {\n",
       "        vertical-align: top;\n",
       "    }\n",
       "\n",
       "    .dataframe thead th {\n",
       "        text-align: right;\n",
       "    }\n",
       "</style>\n",
       "<table border=\"1\" class=\"dataframe\">\n",
       "  <thead>\n",
       "    <tr style=\"text-align: right;\">\n",
       "      <th></th>\n",
       "      <th>x</th>\n",
       "      <th>y</th>\n",
       "      <th>z</th>\n",
       "      <th>density</th>\n",
       "      <th>distance</th>\n",
       "    </tr>\n",
       "  </thead>\n",
       "  <tbody>\n",
       "    <tr>\n",
       "      <th>0</th>\n",
       "      <td>0.00</td>\n",
       "      <td>0.00</td>\n",
       "      <td>0.00</td>\n",
       "      <td>0.000000</td>\n",
       "      <td>0.367423</td>\n",
       "    </tr>\n",
       "    <tr>\n",
       "      <th>1</th>\n",
       "      <td>0.00</td>\n",
       "      <td>0.00</td>\n",
       "      <td>0.05</td>\n",
       "      <td>0.253968</td>\n",
       "      <td>0.335410</td>\n",
       "    </tr>\n",
       "    <tr>\n",
       "      <th>2</th>\n",
       "      <td>0.00</td>\n",
       "      <td>0.00</td>\n",
       "      <td>0.10</td>\n",
       "      <td>0.000000</td>\n",
       "      <td>0.308221</td>\n",
       "    </tr>\n",
       "    <tr>\n",
       "      <th>3</th>\n",
       "      <td>0.00</td>\n",
       "      <td>0.00</td>\n",
       "      <td>0.15</td>\n",
       "      <td>-0.253968</td>\n",
       "      <td>0.287228</td>\n",
       "    </tr>\n",
       "    <tr>\n",
       "      <th>4</th>\n",
       "      <td>0.00</td>\n",
       "      <td>0.00</td>\n",
       "      <td>0.20</td>\n",
       "      <td>0.000000</td>\n",
       "      <td>0.273861</td>\n",
       "    </tr>\n",
       "    <tr>\n",
       "      <th>...</th>\n",
       "      <td>...</td>\n",
       "      <td>...</td>\n",
       "      <td>...</td>\n",
       "      <td>...</td>\n",
       "      <td>...</td>\n",
       "    </tr>\n",
       "    <tr>\n",
       "      <th>7995</th>\n",
       "      <td>0.95</td>\n",
       "      <td>0.95</td>\n",
       "      <td>0.75</td>\n",
       "      <td>0.063492</td>\n",
       "      <td>0.250000</td>\n",
       "    </tr>\n",
       "    <tr>\n",
       "      <th>7996</th>\n",
       "      <td>0.95</td>\n",
       "      <td>0.95</td>\n",
       "      <td>0.80</td>\n",
       "      <td>-0.126984</td>\n",
       "      <td>0.254951</td>\n",
       "    </tr>\n",
       "    <tr>\n",
       "      <th>7997</th>\n",
       "      <td>0.95</td>\n",
       "      <td>0.95</td>\n",
       "      <td>0.85</td>\n",
       "      <td>0.000000</td>\n",
       "      <td>0.269258</td>\n",
       "    </tr>\n",
       "    <tr>\n",
       "      <th>7998</th>\n",
       "      <td>0.95</td>\n",
       "      <td>0.95</td>\n",
       "      <td>0.90</td>\n",
       "      <td>-0.063492</td>\n",
       "      <td>0.291548</td>\n",
       "    </tr>\n",
       "    <tr>\n",
       "      <th>7999</th>\n",
       "      <td>0.95</td>\n",
       "      <td>0.95</td>\n",
       "      <td>0.95</td>\n",
       "      <td>-0.126984</td>\n",
       "      <td>0.320156</td>\n",
       "    </tr>\n",
       "  </tbody>\n",
       "</table>\n",
       "<p>8000 rows × 5 columns</p>\n",
       "</div>"
      ],
      "text/plain": [
       "         x     y     z   density  distance\n",
       "0     0.00  0.00  0.00  0.000000  0.367423\n",
       "1     0.00  0.00  0.05  0.253968  0.335410\n",
       "2     0.00  0.00  0.10  0.000000  0.308221\n",
       "3     0.00  0.00  0.15 -0.253968  0.287228\n",
       "4     0.00  0.00  0.20  0.000000  0.273861\n",
       "...    ...   ...   ...       ...       ...\n",
       "7995  0.95  0.95  0.75  0.063492  0.250000\n",
       "7996  0.95  0.95  0.80 -0.126984  0.254951\n",
       "7997  0.95  0.95  0.85  0.000000  0.269258\n",
       "7998  0.95  0.95  0.90 -0.063492  0.291548\n",
       "7999  0.95  0.95  0.95 -0.126984  0.320156\n",
       "\n",
       "[8000 rows x 5 columns]"
      ]
     },
     "execution_count": 274,
     "metadata": {},
     "output_type": "execute_result"
    }
   ],
   "source": [
    "import time\n",
    "\n",
    "initial_time=time.time()\n",
    "internalValue = [0.3,0.34] #dataframe_terrain.iloc[1].density\n",
    "columns = ['x','y', 'z', 'density']\n",
    "dataframe = dataframe_terrain\n",
    "sdf = dataframe_to_sdf(dataframe_terrain, internalValue, columns)\n",
    "end_time=time.time()\n",
    "print(\"Calcularlo con 'map' tardo {} segundos\".format(end_time-initial_time))\n",
    "sdf"
   ]
  },
  {
   "cell_type": "markdown",
   "metadata": {},
   "source": [
    "# 4. Guardar sdf en un archivo"
   ]
  },
  {
   "cell_type": "code",
   "execution_count": 275,
   "metadata": {},
   "outputs": [],
   "source": [
    "sdf.to_csv (r'./files/terrain_sdf.csv', index = False, header=True)"
   ]
  },
  {
   "cell_type": "markdown",
   "metadata": {},
   "source": [
    "# 5. Funcion para crear esferas"
   ]
  },
  {
   "cell_type": "code",
   "execution_count": 276,
   "metadata": {},
   "outputs": [
    {
     "data": {
      "text/plain": [
       "8000"
      ]
     },
     "execution_count": 276,
     "metadata": {},
     "output_type": "execute_result"
    }
   ],
   "source": [
    "len(dataframe)"
   ]
  },
  {
   "cell_type": "code",
   "execution_count": 277,
   "metadata": {},
   "outputs": [
    {
     "data": {
      "text/html": [
       "<div>\n",
       "<style scoped>\n",
       "    .dataframe tbody tr th:only-of-type {\n",
       "        vertical-align: middle;\n",
       "    }\n",
       "\n",
       "    .dataframe tbody tr th {\n",
       "        vertical-align: top;\n",
       "    }\n",
       "\n",
       "    .dataframe thead th {\n",
       "        text-align: right;\n",
       "    }\n",
       "</style>\n",
       "<table border=\"1\" class=\"dataframe\">\n",
       "  <thead>\n",
       "    <tr style=\"text-align: right;\">\n",
       "      <th></th>\n",
       "      <th>x</th>\n",
       "      <th>y</th>\n",
       "      <th>z</th>\n",
       "      <th>density</th>\n",
       "      <th>distance</th>\n",
       "    </tr>\n",
       "  </thead>\n",
       "  <tbody>\n",
       "    <tr>\n",
       "      <th>0</th>\n",
       "      <td>0.00</td>\n",
       "      <td>0.00</td>\n",
       "      <td>0.00</td>\n",
       "      <td>0.000000</td>\n",
       "      <td>0.367423</td>\n",
       "    </tr>\n",
       "    <tr>\n",
       "      <th>1</th>\n",
       "      <td>0.00</td>\n",
       "      <td>0.00</td>\n",
       "      <td>0.05</td>\n",
       "      <td>0.253968</td>\n",
       "      <td>0.335410</td>\n",
       "    </tr>\n",
       "    <tr>\n",
       "      <th>2</th>\n",
       "      <td>0.00</td>\n",
       "      <td>0.00</td>\n",
       "      <td>0.10</td>\n",
       "      <td>0.000000</td>\n",
       "      <td>0.308221</td>\n",
       "    </tr>\n",
       "    <tr>\n",
       "      <th>3</th>\n",
       "      <td>0.00</td>\n",
       "      <td>0.00</td>\n",
       "      <td>0.15</td>\n",
       "      <td>-0.253968</td>\n",
       "      <td>0.287228</td>\n",
       "    </tr>\n",
       "    <tr>\n",
       "      <th>4</th>\n",
       "      <td>0.00</td>\n",
       "      <td>0.00</td>\n",
       "      <td>0.20</td>\n",
       "      <td>0.000000</td>\n",
       "      <td>0.273861</td>\n",
       "    </tr>\n",
       "    <tr>\n",
       "      <th>...</th>\n",
       "      <td>...</td>\n",
       "      <td>...</td>\n",
       "      <td>...</td>\n",
       "      <td>...</td>\n",
       "      <td>...</td>\n",
       "    </tr>\n",
       "    <tr>\n",
       "      <th>7995</th>\n",
       "      <td>0.95</td>\n",
       "      <td>0.95</td>\n",
       "      <td>0.75</td>\n",
       "      <td>0.063492</td>\n",
       "      <td>0.250000</td>\n",
       "    </tr>\n",
       "    <tr>\n",
       "      <th>7996</th>\n",
       "      <td>0.95</td>\n",
       "      <td>0.95</td>\n",
       "      <td>0.80</td>\n",
       "      <td>-0.126984</td>\n",
       "      <td>0.254951</td>\n",
       "    </tr>\n",
       "    <tr>\n",
       "      <th>7997</th>\n",
       "      <td>0.95</td>\n",
       "      <td>0.95</td>\n",
       "      <td>0.85</td>\n",
       "      <td>0.000000</td>\n",
       "      <td>0.269258</td>\n",
       "    </tr>\n",
       "    <tr>\n",
       "      <th>7998</th>\n",
       "      <td>0.95</td>\n",
       "      <td>0.95</td>\n",
       "      <td>0.90</td>\n",
       "      <td>-0.063492</td>\n",
       "      <td>0.291548</td>\n",
       "    </tr>\n",
       "    <tr>\n",
       "      <th>7999</th>\n",
       "      <td>0.95</td>\n",
       "      <td>0.95</td>\n",
       "      <td>0.95</td>\n",
       "      <td>-0.126984</td>\n",
       "      <td>0.320156</td>\n",
       "    </tr>\n",
       "  </tbody>\n",
       "</table>\n",
       "<p>8000 rows × 5 columns</p>\n",
       "</div>"
      ],
      "text/plain": [
       "         x     y     z   density  distance\n",
       "0     0.00  0.00  0.00  0.000000  0.367423\n",
       "1     0.00  0.00  0.05  0.253968  0.335410\n",
       "2     0.00  0.00  0.10  0.000000  0.308221\n",
       "3     0.00  0.00  0.15 -0.253968  0.287228\n",
       "4     0.00  0.00  0.20  0.000000  0.273861\n",
       "...    ...   ...   ...       ...       ...\n",
       "7995  0.95  0.95  0.75  0.063492  0.250000\n",
       "7996  0.95  0.95  0.80 -0.126984  0.254951\n",
       "7997  0.95  0.95  0.85  0.000000  0.269258\n",
       "7998  0.95  0.95  0.90 -0.063492  0.291548\n",
       "7999  0.95  0.95  0.95 -0.126984  0.320156\n",
       "\n",
       "[8000 rows x 5 columns]"
      ]
     },
     "execution_count": 277,
     "metadata": {},
     "output_type": "execute_result"
    }
   ],
   "source": [
    "dataframe"
   ]
  },
  {
   "cell_type": "code",
   "execution_count": 278,
   "metadata": {},
   "outputs": [
    {
     "data": {
      "text/plain": [
       "x           0.000000\n",
       "y           0.000000\n",
       "z           0.000000\n",
       "density     0.000000\n",
       "distance    0.367423\n",
       "Name: 0, dtype: float64"
      ]
     },
     "execution_count": 278,
     "metadata": {},
     "output_type": "execute_result"
    }
   ],
   "source": [
    "dataframe.iloc[0]"
   ]
  },
  {
   "cell_type": "code",
   "execution_count": 258,
   "metadata": {},
   "outputs": [],
   "source": [
    "from math import sqrt\n",
    "\n",
    "def distanceSquared3D(point, other):\n",
    "    return sqrt((point[0]-other[0])**2 + (point[1]-other[1])**2 + (point[2]-other[2])**2)\n",
    "\n",
    "def isInSphere(spheres, point):\n",
    "    for sphere in spheres:\n",
    "        if distanceSquared3D(point, sphere[0])< sphere[1]:\n",
    "            return True\n",
    "    return False\n",
    "\n",
    "def makeSpheres(dataframe, max_spheres): #dataframe = (x,y,z,density,distance)\n",
    "    coordinates_spheres = [] #[(Point,r)]\n",
    "    for i in range(len(dataframe)):\n",
    "        #print(i)\n",
    "        distance = dataframe.iloc[i].distance\n",
    "        if (distance > 0 and len(coordinates_spheres) < max_spheres):\n",
    "            #print()\n",
    "            coord = [dataframe.iloc[i].x, dataframe.iloc[i].y, dataframe.iloc[i].z]\n",
    "            if(not isInSphere(coordinates_spheres, coord)):\n",
    "                coordinates_spheres.append([coord, distance])\n",
    "\n",
    "    return coordinates_spheres\n",
    "\n",
    "def generateSpheres(dataframe, max_spheres, do_loop, use_brightness_level):\n",
    "    spheresPoints = makeSpheres(dataframe, max_spheres)\n",
    "    # plot(circles, use_brightness_level, do_loop)\n",
    "    return spheresPoints"
   ]
  },
  {
   "cell_type": "code",
   "execution_count": 287,
   "metadata": {},
   "outputs": [],
   "source": [
    "spheres = generateSpheres(dataframe, 20, do_loop=False, use_brightness_level=True)"
   ]
  },
  {
   "cell_type": "code",
   "execution_count": 288,
   "metadata": {},
   "outputs": [
    {
     "data": {
      "text/plain": [
       "[[[0.0, 0.0, 0.0], 0.3674234614174767],\n",
       " [[0.0, 0.0, 0.4], 0.18708286933869708],\n",
       " [[0.0, 0.0, 0.6000000000000001], 0.21213203435596423],\n",
       " [[0.0, 0.0, 0.8500000000000001], 0.18027756377319953],\n",
       " [[0.0, 0.15000000000000002, 0.75], 0.1224744871391589],\n",
       " [[0.0, 0.2, 0.35000000000000003], 0.15],\n",
       " [[0.0, 0.2, 0.9], 0.12247448713915889],\n",
       " [[0.0, 0.25, 0.5], 0.15],\n",
       " [[0.0, 0.25, 0.65], 0.158113883008419],\n",
       " [[0.0, 0.30000000000000004, 0.8], 0.07071067811865478],\n",
       " [[0.0, 0.35000000000000003, 0.15000000000000002], 0.21213203435596426],\n",
       " [[0.0, 0.35000000000000003, 0.9], 0.15000000000000002],\n",
       " [[0.0, 0.4, 0.4], 0.25495097567963926],\n",
       " [[0.0, 0.4, 0.7000000000000001], 0.18708286933869708],\n",
       " [[0.0, 0.5, 0.0], 0.18708286933869708],\n",
       " [[0.0, 0.5, 0.9500000000000001], 0.2958039891549808],\n",
       " [[0.0, 0.6000000000000001, 0.2], 0.12247448713915893],\n",
       " [[0.0, 0.6000000000000001, 0.6000000000000001], 0.07071067811865465],\n",
       " [[0.0, 0.65, 0.35000000000000003], 0.09999999999999998],\n",
       " [[0.0, 0.65, 0.5], 0.04999999999999999]]"
      ]
     },
     "execution_count": 288,
     "metadata": {},
     "output_type": "execute_result"
    }
   ],
   "source": [
    "spheres"
   ]
  },
  {
   "cell_type": "markdown",
   "metadata": {},
   "source": [
    "# 6. Funcion para generar shader"
   ]
  },
  {
   "cell_type": "code",
   "execution_count": 222,
   "metadata": {},
   "outputs": [],
   "source": [
    "def getValueOfIndex(array, index):\n",
    "    return array[index]\n",
    "\n",
    "def getX(array):\n",
    "    return getValueOfIndex(array, 0)\n",
    "\n",
    "def getY(array):\n",
    "    return getValueOfIndex(array, 1)\n",
    "\n",
    "def getZ(array):\n",
    "    return getValueOfIndex(array, 2)"
   ]
  },
  {
   "cell_type": "code",
   "execution_count": 290,
   "metadata": {},
   "outputs": [],
   "source": [
    "def generateShader(spheres):    \n",
    "    f = \"float sphereSD(vec3 p, vec3 pos, float r) { return length(pos - p) - r; }\\nfloat sphereSDF(vec3 inputPoint) {\\nreturn \"\n",
    "    sphere = spheres[0]\n",
    "    prev = \"sphereSD(inputPoint, vec3({0}, {1}, {2}), {3})\".format(sphere[0][0]/x_max, sphere[0][1]/y_max, sphere[0][2]/z_max, float(sphere[1]/r_max))\n",
    "    if (len(spheres) > 1):\n",
    "        for i in range(1,len(spheres)):\n",
    "            sphere = spheres[i]\n",
    "            opt = \"min(sphereSD(inputPoint, vec3({0}, {1}, {2}), {3}), {4})\".format(sphere[0][0]/x_max, sphere[0][1]/y_max, sphere[0][2]/z_max, float(sphere[1]/r_max), prev)\n",
    "            prev = opt\n",
    "        f += opt\n",
    "    else:\n",
    "        f += prev\n",
    "    f += \";\\n}\"\n",
    "    print(f)"
   ]
  },
  {
   "cell_type": "code",
   "execution_count": 289,
   "metadata": {},
   "outputs": [
    {
     "name": "stdout",
     "output_type": "stream",
     "text": [
      "float sphereSD(vec3 p, vec3 pos, float r) { return length(pos - p) - r; }\n",
      "float sphereSDF(vec3 inputPoint) {\n",
      "return min(sphereSD(inputPoint, vec3(0.0, 0.65, 0.5), 0.04999999999999999), min(sphereSD(inputPoint, vec3(0.0, 0.65, 0.35000000000000003), 0.09999999999999998), min(sphereSD(inputPoint, vec3(0.0, 0.6000000000000001, 0.6000000000000001), 0.07071067811865465), min(sphereSD(inputPoint, vec3(0.0, 0.6000000000000001, 0.2), 0.12247448713915893), min(sphereSD(inputPoint, vec3(0.0, 0.5, 0.9500000000000001), 0.2958039891549808), min(sphereSD(inputPoint, vec3(0.0, 0.5, 0.0), 0.18708286933869708), min(sphereSD(inputPoint, vec3(0.0, 0.4, 0.7000000000000001), 0.18708286933869708), min(sphereSD(inputPoint, vec3(0.0, 0.4, 0.4), 0.25495097567963926), min(sphereSD(inputPoint, vec3(0.0, 0.35000000000000003, 0.9), 0.15000000000000002), min(sphereSD(inputPoint, vec3(0.0, 0.35000000000000003, 0.15000000000000002), 0.21213203435596426), min(sphereSD(inputPoint, vec3(0.0, 0.30000000000000004, 0.8), 0.07071067811865478), min(sphereSD(inputPoint, vec3(0.0, 0.25, 0.65), 0.158113883008419), min(sphereSD(inputPoint, vec3(0.0, 0.25, 0.5), 0.15), min(sphereSD(inputPoint, vec3(0.0, 0.2, 0.9), 0.12247448713915889), min(sphereSD(inputPoint, vec3(0.0, 0.2, 0.35000000000000003), 0.15), min(sphereSD(inputPoint, vec3(0.0, 0.15000000000000002, 0.75), 0.1224744871391589), min(sphereSD(inputPoint, vec3(0.0, 0.0, 0.8500000000000001), 0.18027756377319953), min(sphereSD(inputPoint, vec3(0.0, 0.0, 0.6000000000000001), 0.21213203435596423), min(sphereSD(inputPoint, vec3(0.0, 0.0, 0.4), 0.18708286933869708), sphereSD(inputPoint, vec3(0.0, 0.0, 0.0), 0.3674234614174767))))))))))))))))))));\n",
      "}\n"
     ]
    },
    {
     "name": "stderr",
     "output_type": "stream",
     "text": [
      "/usr/lib/python3/dist-packages/ipykernel_launcher.py:2: VisibleDeprecationWarning: Creating an ndarray from ragged nested sequences (which is a list-or-tuple of lists-or-tuples-or ndarrays with different lengths or shapes) is deprecated. If you meant to do this, you must specify 'dtype=object' when creating the ndarray\n",
      "  \n"
     ]
    }
   ],
   "source": [
    "generateShader(spheres)"
   ]
  },
  {
   "cell_type": "code",
   "execution_count": null,
   "metadata": {},
   "outputs": [],
   "source": []
  },
  {
   "cell_type": "code",
   "execution_count": null,
   "metadata": {},
   "outputs": [],
   "source": []
  }
 ],
 "metadata": {
  "kernelspec": {
   "display_name": "Python 3",
   "language": "python",
   "name": "python3"
  },
  "language_info": {
   "codemirror_mode": {
    "name": "ipython",
    "version": 3
   },
   "file_extension": ".py",
   "mimetype": "text/x-python",
   "name": "python",
   "nbconvert_exporter": "python",
   "pygments_lexer": "ipython3",
   "version": "3.6.9"
  }
 },
 "nbformat": 4,
 "nbformat_minor": 2
}
